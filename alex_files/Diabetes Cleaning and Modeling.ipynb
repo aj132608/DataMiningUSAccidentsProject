{
 "cells": [
  {
   "cell_type": "code",
   "execution_count": 206,
   "metadata": {},
   "outputs": [],
   "source": [
    "import pandas as pd\n",
    "import numpy as np\n",
    "import matplotlib.pyplot as plt\n",
    "import tensorflow as tf\n",
    "\n",
    "\n",
    "# if __name__ == \"__main__\":\n",
    "\n",
    "\n",
    "#     dataset_df = pd.read_csv('updated_data_removed_outliers.csv')\n",
    "\n",
    "#     feature_medications = dataset_df.iloc[:, 27:50]\n",
    "#     print(feature_medications.columns)\n",
    "#     for label in feature_medications.columns:\n",
    "        \n",
    "#     # for index, label in enumerate(dataset_df.columns):\n",
    "#     #     print(f\"[{index}] {label}\")"
   ]
  },
  {
   "cell_type": "code",
   "execution_count": 2,
   "metadata": {},
   "outputs": [],
   "source": [
    "dataset_df = pd.read_csv('updated_data_removed_outliers.csv')"
   ]
  },
  {
   "cell_type": "code",
   "execution_count": 3,
   "metadata": {},
   "outputs": [],
   "source": [
    "possible_diagnosis = [\n",
    "    \"circulatory\",\n",
    "    \"respiratory\",\n",
    "    \"digestive\",\n",
    "    \"diabetes\",\n",
    "    \"injury\",\n",
    "    \"musculoskeletal\",\n",
    "    \"genitourinary\",\n",
    "    \"neoplasms\",\n",
    "    \"other\"\n",
    "]\n",
    "\n",
    "new_df = pd.DataFrame()\n",
    "feature_medications = dataset_df.iloc[:, 27:50]\n"
   ]
  },
  {
   "cell_type": "code",
   "execution_count": 4,
   "metadata": {},
   "outputs": [],
   "source": [
    "for label in feature_medications:\n",
    "    new_df[label] = dataset_df[f'{label}_numeric']"
   ]
  },
  {
   "cell_type": "code",
   "execution_count": 5,
   "metadata": {},
   "outputs": [],
   "source": [
    "for diagnosis in possible_diagnosis:\n",
    "    new_df[diagnosis] = dataset_df[diagnosis]"
   ]
  },
  {
   "cell_type": "code",
   "execution_count": 6,
   "metadata": {},
   "outputs": [
    {
     "name": "stdout",
     "output_type": "stream",
     "text": [
      "   metformin  repaglinide  nateglinide  chlorpropamide  glimepiride  \\\n",
      "0          0            0            0               0            0   \n",
      "1          0            0            0               0            0   \n",
      "2          0            0            0               0            0   \n",
      "3          0            0            0               0            0   \n",
      "4          0            0            0               0            0   \n",
      "\n",
      "   acetohexamide  glipizide  glyburide  tolbutamide  pioglitazone  ...  \\\n",
      "0              0          0          0            0             0  ...   \n",
      "1              0          0          0            0             0  ...   \n",
      "2              0          2          0            0             0  ...   \n",
      "3              0          0          0            0             0  ...   \n",
      "4              0          2          0            0             0  ...   \n",
      "\n",
      "   metformin.pioglitazone  circulatory  respiratory  digestive  diabetes  \\\n",
      "0                       0          0.0          0.0        0.0       1.0   \n",
      "1                       0          0.0          0.0        0.0       1.0   \n",
      "2                       0          0.0          0.0        0.0       1.0   \n",
      "3                       0          1.0          0.0        0.0       1.0   \n",
      "4                       0          0.0          0.0        0.0       1.0   \n",
      "\n",
      "   injury  musculoskeletal  genitourinary  neoplasms  other  \n",
      "0     0.0              0.0            0.0        0.0    0.0  \n",
      "1     0.0              0.0            0.0        0.0    1.0  \n",
      "2     0.0              0.0            0.0        0.0    1.0  \n",
      "3     0.0              0.0            0.0        0.0    1.0  \n",
      "4     0.0              0.0            0.0        1.0    0.0  \n",
      "\n",
      "[5 rows x 32 columns]\n"
     ]
    }
   ],
   "source": [
    "print(new_df.head())"
   ]
  },
  {
   "cell_type": "code",
   "execution_count": 20,
   "metadata": {},
   "outputs": [],
   "source": [
    "predictors = np.array(new_df)"
   ]
  },
  {
   "cell_type": "code",
   "execution_count": 8,
   "metadata": {},
   "outputs": [
    {
     "name": "stdout",
     "output_type": "stream",
     "text": [
      "Unnamed: 0\n",
      "X\n",
      "Unnamed..0\n",
      "encounter_id\n",
      "patient_nbr\n",
      "race\n",
      "gender\n",
      "age\n",
      "weight\n",
      "admission_type_id\n",
      "discharge_disposition_id\n",
      "admission_source_id\n",
      "time_in_hospital\n",
      "payer_code\n",
      "medical_specialty\n",
      "num_lab_procedures\n",
      "num_procedures\n",
      "num_medications\n",
      "number_outpatient\n",
      "number_emergency\n",
      "number_inpatient\n",
      "diag_1\n",
      "diag_2\n",
      "diag_3\n",
      "number_diagnoses\n",
      "max_glu_serum\n",
      "A1Cresult\n",
      "metformin\n",
      "repaglinide\n",
      "nateglinide\n",
      "chlorpropamide\n",
      "glimepiride\n",
      "acetohexamide\n",
      "glipizide\n",
      "glyburide\n",
      "tolbutamide\n",
      "pioglitazone\n",
      "rosiglitazone\n",
      "acarbose\n",
      "miglitol\n",
      "troglitazone\n",
      "tolazamide\n",
      "examide\n",
      "citoglipton\n",
      "insulin\n",
      "glyburide.metformin\n",
      "glipizide.metformin\n",
      "glimepiride.pioglitazone\n",
      "metformin.rosiglitazone\n",
      "metformin.pioglitazone\n",
      "change\n",
      "diabetesMed\n",
      "readmitted\n",
      "circulatory\n",
      "respiratory\n",
      "digestive\n",
      "diabetes\n",
      "injury\n",
      "musculoskeletal\n",
      "genitourinary\n",
      "neoplasms\n",
      "other\n",
      "diag_1_binned\n",
      "diag_2_binned\n",
      "diag_3_binned\n",
      "new_ages\n",
      "age_numeric_z\n",
      "number_diagnoses_z\n",
      "metformin_numeric\n",
      "metformin_numeric_z\n",
      "repaglinide_numeric\n",
      "repaglinide_numeric_z\n",
      "nateglinide_numeric\n",
      "natglinide_numeric_z\n",
      "chlorpropamide_numeric\n",
      "chlorpropamide_numeric_z\n",
      "glimepiride_numeric\n",
      "glimepiride_numeric_z\n",
      "acetohexamide_numeric\n",
      "acetohexamide_numeric_z\n",
      "glipizide_numeric\n",
      "glipizide_numeric_z\n",
      "glyburide_numeric\n",
      "glyburide_numeric_z\n",
      "tolbutamide_numeric\n",
      "tolbutamide_numeric_z\n",
      "pioglitazone_numeric\n",
      "pioglitazone_numeric_z\n",
      "rosiglitazone_numeric\n",
      "rosiglitazone_numeric_z\n",
      "acarbose_numeric\n",
      "acarbose_numeric_z\n",
      "miglitol_numeric\n",
      "miglitol_numeric_z\n",
      "troglitazone_numeric\n",
      "troglitazone_numeric_z\n",
      "tolazamide_numeric\n",
      "tolazamide_numeric_z\n",
      "examide_numeric\n",
      "examide_numeric_z\n",
      "citoglipton_numeric\n",
      "citoglipton_numeric_z\n",
      "insulin_numeric\n",
      "insulin_numeric_z\n",
      "glyburide.metformin_numeric\n",
      "glyburide.metformin_numeric_z\n",
      "glipizide.metformin_numeric\n",
      "glipizide.metformin_numeric_z\n",
      "glimepiride.pioglitazone_numeric\n",
      "glimepiride.pioglitazone_numeric_z\n",
      "metformin.rosiglitazone_numeric\n",
      "metformin.rosiglitazone_numeric_z\n",
      "metformin.pioglitazone_numeric\n",
      "metformin.pioglitazone_numeric_z\n"
     ]
    }
   ],
   "source": [
    "for label in dataset_df.columns:\n",
    "    print(label)"
   ]
  },
  {
   "cell_type": "code",
   "execution_count": 9,
   "metadata": {},
   "outputs": [
    {
     "name": "stdout",
     "output_type": "stream",
     "text": [
      "0          NO\n",
      "1         >30\n",
      "2          NO\n",
      "3          NO\n",
      "4          NO\n",
      "5         >30\n",
      "6          NO\n",
      "7         >30\n",
      "8          NO\n",
      "9          NO\n",
      "10        >30\n",
      "11        <30\n",
      "12        <30\n",
      "13         NO\n",
      "14        >30\n",
      "15         NO\n",
      "16        <30\n",
      "17         NO\n",
      "18        >30\n",
      "19         NO\n",
      "20         NO\n",
      "21         NO\n",
      "22         NO\n",
      "23        >30\n",
      "24         NO\n",
      "25         NO\n",
      "26         NO\n",
      "27        >30\n",
      "28        >30\n",
      "29        >30\n",
      "         ... \n",
      "101736    >30\n",
      "101737     NO\n",
      "101738     NO\n",
      "101739     NO\n",
      "101740     NO\n",
      "101741     NO\n",
      "101742     NO\n",
      "101743     NO\n",
      "101744     NO\n",
      "101745     NO\n",
      "101746    <30\n",
      "101747    >30\n",
      "101748    >30\n",
      "101749     NO\n",
      "101750    <30\n",
      "101751     NO\n",
      "101752     NO\n",
      "101753     NO\n",
      "101754    >30\n",
      "101755    >30\n",
      "101756    >30\n",
      "101757     NO\n",
      "101758     NO\n",
      "101759     NO\n",
      "101760    >30\n",
      "101761    >30\n",
      "101762     NO\n",
      "101763     NO\n",
      "101764     NO\n",
      "101765     NO\n",
      "Name: readmitted, Length: 101766, dtype: object\n"
     ]
    }
   ],
   "source": [
    "print(dataset_df['readmitted'])"
   ]
  },
  {
   "cell_type": "code",
   "execution_count": 17,
   "metadata": {},
   "outputs": [],
   "source": [
    "y = dataset_df['readmitted']\n",
    "y[y == '<30'] = 0\n",
    "y[y == '>30'] = 1\n",
    "y[y == 'NO'] = 2\n",
    "y = np.array(y)"
   ]
  },
  {
   "cell_type": "code",
   "execution_count": 18,
   "metadata": {},
   "outputs": [
    {
     "data": {
      "text/plain": [
       "array([2, 1, 2, ..., 0, 1, 2], dtype=object)"
      ]
     },
     "execution_count": 18,
     "metadata": {},
     "output_type": "execute_result"
    }
   ],
   "source": [
    "y"
   ]
  },
  {
   "cell_type": "code",
   "execution_count": 19,
   "metadata": {},
   "outputs": [
    {
     "data": {
      "text/plain": [
       "0         2\n",
       "1         1\n",
       "2         2\n",
       "3         2\n",
       "4         2\n",
       "5         1\n",
       "6         2\n",
       "7         1\n",
       "8         2\n",
       "9         2\n",
       "10        1\n",
       "11        0\n",
       "12        0\n",
       "13        2\n",
       "14        1\n",
       "15        2\n",
       "16        0\n",
       "17        2\n",
       "18        1\n",
       "19        2\n",
       "20        2\n",
       "21        2\n",
       "22        2\n",
       "23        1\n",
       "24        2\n",
       "25        2\n",
       "26        2\n",
       "27        1\n",
       "28        1\n",
       "29        1\n",
       "         ..\n",
       "101739    2\n",
       "101740    2\n",
       "101741    2\n",
       "101742    2\n",
       "101743    2\n",
       "101744    2\n",
       "101745    2\n",
       "101746    0\n",
       "101747    1\n",
       "101748    1\n",
       "101749    2\n",
       "101750    0\n",
       "101751    2\n",
       "101752    2\n",
       "101753    2\n",
       "101754    1\n",
       "101755    1\n",
       "101756    1\n",
       "101757    2\n",
       "101758    2\n",
       "101759    2\n",
       "101760    1\n",
       "101761    1\n",
       "101762    2\n",
       "101763    2\n",
       "101764    2\n",
       "101765    2\n",
       "<30       0\n",
       ">30       1\n",
       "NO        2\n",
       "Name: readmitted, Length: 101769, dtype: object"
      ]
     },
     "execution_count": 19,
     "metadata": {},
     "output_type": "execute_result"
    }
   ],
   "source": [
    "dataset_df['readmitted']"
   ]
  },
  {
   "cell_type": "code",
   "execution_count": 21,
   "metadata": {},
   "outputs": [],
   "source": [
    "target = y"
   ]
  },
  {
   "cell_type": "code",
   "execution_count": 24,
   "metadata": {},
   "outputs": [
    {
     "data": {
      "text/plain": [
       "array([0., 0., 0., 0., 0., 0., 0., 0., 0., 0., 0., 0., 0., 0., 0., 0., 0.,\n",
       "       3., 0., 0., 0., 0., 0., 0., 0., 0., 1., 0., 0., 0., 0., 1.])"
      ]
     },
     "execution_count": 24,
     "metadata": {},
     "output_type": "execute_result"
    }
   ],
   "source": [
    "predictors[1]"
   ]
  },
  {
   "cell_type": "code",
   "execution_count": 27,
   "metadata": {},
   "outputs": [
    {
     "data": {
      "text/plain": [
       "metformin                   0.0\n",
       "repaglinide                 0.0\n",
       "nateglinide                 0.0\n",
       "chlorpropamide              0.0\n",
       "glimepiride                 0.0\n",
       "acetohexamide               0.0\n",
       "glipizide                   0.0\n",
       "glyburide                   0.0\n",
       "tolbutamide                 0.0\n",
       "pioglitazone                0.0\n",
       "rosiglitazone               0.0\n",
       "acarbose                    0.0\n",
       "miglitol                    0.0\n",
       "troglitazone                0.0\n",
       "tolazamide                  0.0\n",
       "examide                     0.0\n",
       "citoglipton                 0.0\n",
       "insulin                     3.0\n",
       "glyburide.metformin         0.0\n",
       "glipizide.metformin         0.0\n",
       "glimepiride.pioglitazone    0.0\n",
       "metformin.rosiglitazone     0.0\n",
       "metformin.pioglitazone      0.0\n",
       "circulatory                 0.0\n",
       "respiratory                 0.0\n",
       "digestive                   0.0\n",
       "diabetes                    1.0\n",
       "injury                      0.0\n",
       "musculoskeletal             0.0\n",
       "genitourinary               0.0\n",
       "neoplasms                   0.0\n",
       "other                       1.0\n",
       "Name: 1, dtype: float64"
      ]
     },
     "execution_count": 27,
     "metadata": {},
     "output_type": "execute_result"
    }
   ],
   "source": [
    "new_df.loc[1]"
   ]
  },
  {
   "cell_type": "code",
   "execution_count": 28,
   "metadata": {},
   "outputs": [],
   "source": [
    "predictor_df = pd.DataFrame()"
   ]
  },
  {
   "cell_type": "code",
   "execution_count": 31,
   "metadata": {},
   "outputs": [
    {
     "ename": "ValueError",
     "evalue": "Cannot set a frame with no defined index and a value that cannot be converted to a Series",
     "output_type": "error",
     "traceback": [
      "\u001b[1;31m---------------------------------------------------------------------------\u001b[0m",
      "\u001b[1;31mValueError\u001b[0m                                Traceback (most recent call last)",
      "\u001b[1;32m~\\Anaconda3\\lib\\site-packages\\pandas\\core\\frame.py\u001b[0m in \u001b[0;36m_ensure_valid_index\u001b[1;34m(self, value)\u001b[0m\n\u001b[0;32m   3423\u001b[0m             \u001b[1;32mtry\u001b[0m\u001b[1;33m:\u001b[0m\u001b[1;33m\u001b[0m\u001b[1;33m\u001b[0m\u001b[0m\n\u001b[1;32m-> 3424\u001b[1;33m                 \u001b[0mvalue\u001b[0m \u001b[1;33m=\u001b[0m \u001b[0mSeries\u001b[0m\u001b[1;33m(\u001b[0m\u001b[0mvalue\u001b[0m\u001b[1;33m)\u001b[0m\u001b[1;33m\u001b[0m\u001b[1;33m\u001b[0m\u001b[0m\n\u001b[0m\u001b[0;32m   3425\u001b[0m             \u001b[1;32mexcept\u001b[0m \u001b[1;33m(\u001b[0m\u001b[0mValueError\u001b[0m\u001b[1;33m,\u001b[0m \u001b[0mNotImplementedError\u001b[0m\u001b[1;33m,\u001b[0m \u001b[0mTypeError\u001b[0m\u001b[1;33m)\u001b[0m\u001b[1;33m:\u001b[0m\u001b[1;33m\u001b[0m\u001b[1;33m\u001b[0m\u001b[0m\n",
      "\u001b[1;32m~\\Anaconda3\\lib\\site-packages\\pandas\\core\\series.py\u001b[0m in \u001b[0;36m__init__\u001b[1;34m(self, data, index, dtype, name, copy, fastpath)\u001b[0m\n\u001b[0;32m    263\u001b[0m \u001b[1;33m\u001b[0m\u001b[0m\n\u001b[1;32m--> 264\u001b[1;33m                 \u001b[0mdata\u001b[0m \u001b[1;33m=\u001b[0m \u001b[0mSingleBlockManager\u001b[0m\u001b[1;33m(\u001b[0m\u001b[0mdata\u001b[0m\u001b[1;33m,\u001b[0m \u001b[0mindex\u001b[0m\u001b[1;33m,\u001b[0m \u001b[0mfastpath\u001b[0m\u001b[1;33m=\u001b[0m\u001b[1;32mTrue\u001b[0m\u001b[1;33m)\u001b[0m\u001b[1;33m\u001b[0m\u001b[1;33m\u001b[0m\u001b[0m\n\u001b[0m\u001b[0;32m    265\u001b[0m \u001b[1;33m\u001b[0m\u001b[0m\n",
      "\u001b[1;32m~\\Anaconda3\\lib\\site-packages\\pandas\\core\\internals\\managers.py\u001b[0m in \u001b[0;36m__init__\u001b[1;34m(self, block, axis, do_integrity_check, fastpath)\u001b[0m\n\u001b[0;32m   1480\u001b[0m         \u001b[1;32mif\u001b[0m \u001b[1;32mnot\u001b[0m \u001b[0misinstance\u001b[0m\u001b[1;33m(\u001b[0m\u001b[0mblock\u001b[0m\u001b[1;33m,\u001b[0m \u001b[0mBlock\u001b[0m\u001b[1;33m)\u001b[0m\u001b[1;33m:\u001b[0m\u001b[1;33m\u001b[0m\u001b[1;33m\u001b[0m\u001b[0m\n\u001b[1;32m-> 1481\u001b[1;33m             \u001b[0mblock\u001b[0m \u001b[1;33m=\u001b[0m \u001b[0mmake_block\u001b[0m\u001b[1;33m(\u001b[0m\u001b[0mblock\u001b[0m\u001b[1;33m,\u001b[0m \u001b[0mplacement\u001b[0m\u001b[1;33m=\u001b[0m\u001b[0mslice\u001b[0m\u001b[1;33m(\u001b[0m\u001b[1;36m0\u001b[0m\u001b[1;33m,\u001b[0m \u001b[0mlen\u001b[0m\u001b[1;33m(\u001b[0m\u001b[0maxis\u001b[0m\u001b[1;33m)\u001b[0m\u001b[1;33m)\u001b[0m\u001b[1;33m,\u001b[0m \u001b[0mndim\u001b[0m\u001b[1;33m=\u001b[0m\u001b[1;36m1\u001b[0m\u001b[1;33m)\u001b[0m\u001b[1;33m\u001b[0m\u001b[1;33m\u001b[0m\u001b[0m\n\u001b[0m\u001b[0;32m   1482\u001b[0m \u001b[1;33m\u001b[0m\u001b[0m\n",
      "\u001b[1;32m~\\Anaconda3\\lib\\site-packages\\pandas\\core\\internals\\blocks.py\u001b[0m in \u001b[0;36mmake_block\u001b[1;34m(values, placement, klass, ndim, dtype, fastpath)\u001b[0m\n\u001b[0;32m   3094\u001b[0m \u001b[1;33m\u001b[0m\u001b[0m\n\u001b[1;32m-> 3095\u001b[1;33m     \u001b[1;32mreturn\u001b[0m \u001b[0mklass\u001b[0m\u001b[1;33m(\u001b[0m\u001b[0mvalues\u001b[0m\u001b[1;33m,\u001b[0m \u001b[0mndim\u001b[0m\u001b[1;33m=\u001b[0m\u001b[0mndim\u001b[0m\u001b[1;33m,\u001b[0m \u001b[0mplacement\u001b[0m\u001b[1;33m=\u001b[0m\u001b[0mplacement\u001b[0m\u001b[1;33m)\u001b[0m\u001b[1;33m\u001b[0m\u001b[1;33m\u001b[0m\u001b[0m\n\u001b[0m\u001b[0;32m   3096\u001b[0m \u001b[1;33m\u001b[0m\u001b[0m\n",
      "\u001b[1;32m~\\Anaconda3\\lib\\site-packages\\pandas\\core\\internals\\blocks.py\u001b[0m in \u001b[0;36m__init__\u001b[1;34m(self, values, placement, ndim)\u001b[0m\n\u001b[0;32m   2630\u001b[0m         super(ObjectBlock, self).__init__(values, ndim=ndim,\n\u001b[1;32m-> 2631\u001b[1;33m                                           placement=placement)\n\u001b[0m\u001b[0;32m   2632\u001b[0m \u001b[1;33m\u001b[0m\u001b[0m\n",
      "\u001b[1;32m~\\Anaconda3\\lib\\site-packages\\pandas\\core\\internals\\blocks.py\u001b[0m in \u001b[0;36m__init__\u001b[1;34m(self, values, placement, ndim)\u001b[0m\n\u001b[0;32m     86\u001b[0m                 \u001b[1;34m'Wrong number of items passed {val}, placement implies '\u001b[0m\u001b[1;33m\u001b[0m\u001b[1;33m\u001b[0m\u001b[0m\n\u001b[1;32m---> 87\u001b[1;33m                 '{mgr}'.format(val=len(self.values), mgr=len(self.mgr_locs)))\n\u001b[0m\u001b[0;32m     88\u001b[0m \u001b[1;33m\u001b[0m\u001b[0m\n",
      "\u001b[1;31mValueError\u001b[0m: Wrong number of items passed 32, placement implies 81778",
      "\nDuring handling of the above exception, another exception occurred:\n",
      "\u001b[1;31mValueError\u001b[0m                                Traceback (most recent call last)",
      "\u001b[1;32m<ipython-input-31-7129cdf640d5>\u001b[0m in \u001b[0;36m<module>\u001b[1;34m\u001b[0m\n\u001b[0;32m     10\u001b[0m \u001b[1;32mfor\u001b[0m \u001b[0mmedication\u001b[0m \u001b[1;32min\u001b[0m \u001b[0mfeature_medications\u001b[0m\u001b[1;33m.\u001b[0m\u001b[0mcolumns\u001b[0m\u001b[1;33m.\u001b[0m\u001b[0mvalues\u001b[0m\u001b[1;33m:\u001b[0m\u001b[1;33m\u001b[0m\u001b[1;33m\u001b[0m\u001b[0m\n\u001b[0;32m     11\u001b[0m     \u001b[1;32mfor\u001b[0m \u001b[0mindex\u001b[0m\u001b[1;33m,\u001b[0m \u001b[0mvalue\u001b[0m \u001b[1;32min\u001b[0m \u001b[0menumerate\u001b[0m\u001b[1;33m(\u001b[0m\u001b[0mmedication_values\u001b[0m\u001b[1;33m)\u001b[0m\u001b[1;33m:\u001b[0m\u001b[1;33m\u001b[0m\u001b[1;33m\u001b[0m\u001b[0m\n\u001b[1;32m---> 12\u001b[1;33m         \u001b[0mpredictor_df\u001b[0m\u001b[1;33m[\u001b[0m\u001b[1;34mf\"{medication}_{value}\"\u001b[0m\u001b[1;33m]\u001b[0m \u001b[1;33m=\u001b[0m \u001b[0mnew_df\u001b[0m\u001b[1;33m[\u001b[0m\u001b[0mnew_df\u001b[0m\u001b[1;33m[\u001b[0m\u001b[0mmedication\u001b[0m\u001b[1;33m]\u001b[0m \u001b[1;33m==\u001b[0m \u001b[0mindex\u001b[0m\u001b[1;33m]\u001b[0m\u001b[1;33m\u001b[0m\u001b[1;33m\u001b[0m\u001b[0m\n\u001b[0m",
      "\u001b[1;32m~\\Anaconda3\\lib\\site-packages\\pandas\\core\\frame.py\u001b[0m in \u001b[0;36m__setitem__\u001b[1;34m(self, key, value)\u001b[0m\n\u001b[0;32m   3368\u001b[0m         \u001b[1;32melse\u001b[0m\u001b[1;33m:\u001b[0m\u001b[1;33m\u001b[0m\u001b[1;33m\u001b[0m\u001b[0m\n\u001b[0;32m   3369\u001b[0m             \u001b[1;31m# set column\u001b[0m\u001b[1;33m\u001b[0m\u001b[1;33m\u001b[0m\u001b[1;33m\u001b[0m\u001b[0m\n\u001b[1;32m-> 3370\u001b[1;33m             \u001b[0mself\u001b[0m\u001b[1;33m.\u001b[0m\u001b[0m_set_item\u001b[0m\u001b[1;33m(\u001b[0m\u001b[0mkey\u001b[0m\u001b[1;33m,\u001b[0m \u001b[0mvalue\u001b[0m\u001b[1;33m)\u001b[0m\u001b[1;33m\u001b[0m\u001b[1;33m\u001b[0m\u001b[0m\n\u001b[0m\u001b[0;32m   3371\u001b[0m \u001b[1;33m\u001b[0m\u001b[0m\n\u001b[0;32m   3372\u001b[0m     \u001b[1;32mdef\u001b[0m \u001b[0m_setitem_slice\u001b[0m\u001b[1;33m(\u001b[0m\u001b[0mself\u001b[0m\u001b[1;33m,\u001b[0m \u001b[0mkey\u001b[0m\u001b[1;33m,\u001b[0m \u001b[0mvalue\u001b[0m\u001b[1;33m)\u001b[0m\u001b[1;33m:\u001b[0m\u001b[1;33m\u001b[0m\u001b[1;33m\u001b[0m\u001b[0m\n",
      "\u001b[1;32m~\\Anaconda3\\lib\\site-packages\\pandas\\core\\frame.py\u001b[0m in \u001b[0;36m_set_item\u001b[1;34m(self, key, value)\u001b[0m\n\u001b[0;32m   3442\u001b[0m         \"\"\"\n\u001b[0;32m   3443\u001b[0m \u001b[1;33m\u001b[0m\u001b[0m\n\u001b[1;32m-> 3444\u001b[1;33m         \u001b[0mself\u001b[0m\u001b[1;33m.\u001b[0m\u001b[0m_ensure_valid_index\u001b[0m\u001b[1;33m(\u001b[0m\u001b[0mvalue\u001b[0m\u001b[1;33m)\u001b[0m\u001b[1;33m\u001b[0m\u001b[1;33m\u001b[0m\u001b[0m\n\u001b[0m\u001b[0;32m   3445\u001b[0m         \u001b[0mvalue\u001b[0m \u001b[1;33m=\u001b[0m \u001b[0mself\u001b[0m\u001b[1;33m.\u001b[0m\u001b[0m_sanitize_column\u001b[0m\u001b[1;33m(\u001b[0m\u001b[0mkey\u001b[0m\u001b[1;33m,\u001b[0m \u001b[0mvalue\u001b[0m\u001b[1;33m)\u001b[0m\u001b[1;33m\u001b[0m\u001b[1;33m\u001b[0m\u001b[0m\n\u001b[0;32m   3446\u001b[0m         \u001b[0mNDFrame\u001b[0m\u001b[1;33m.\u001b[0m\u001b[0m_set_item\u001b[0m\u001b[1;33m(\u001b[0m\u001b[0mself\u001b[0m\u001b[1;33m,\u001b[0m \u001b[0mkey\u001b[0m\u001b[1;33m,\u001b[0m \u001b[0mvalue\u001b[0m\u001b[1;33m)\u001b[0m\u001b[1;33m\u001b[0m\u001b[1;33m\u001b[0m\u001b[0m\n",
      "\u001b[1;32m~\\Anaconda3\\lib\\site-packages\\pandas\\core\\frame.py\u001b[0m in \u001b[0;36m_ensure_valid_index\u001b[1;34m(self, value)\u001b[0m\n\u001b[0;32m   3424\u001b[0m                 \u001b[0mvalue\u001b[0m \u001b[1;33m=\u001b[0m \u001b[0mSeries\u001b[0m\u001b[1;33m(\u001b[0m\u001b[0mvalue\u001b[0m\u001b[1;33m)\u001b[0m\u001b[1;33m\u001b[0m\u001b[1;33m\u001b[0m\u001b[0m\n\u001b[0;32m   3425\u001b[0m             \u001b[1;32mexcept\u001b[0m \u001b[1;33m(\u001b[0m\u001b[0mValueError\u001b[0m\u001b[1;33m,\u001b[0m \u001b[0mNotImplementedError\u001b[0m\u001b[1;33m,\u001b[0m \u001b[0mTypeError\u001b[0m\u001b[1;33m)\u001b[0m\u001b[1;33m:\u001b[0m\u001b[1;33m\u001b[0m\u001b[1;33m\u001b[0m\u001b[0m\n\u001b[1;32m-> 3426\u001b[1;33m                 raise ValueError('Cannot set a frame with no defined index '\n\u001b[0m\u001b[0;32m   3427\u001b[0m                                  \u001b[1;34m'and a value that cannot be converted to a '\u001b[0m\u001b[1;33m\u001b[0m\u001b[1;33m\u001b[0m\u001b[0m\n\u001b[0;32m   3428\u001b[0m                                  'Series')\n",
      "\u001b[1;31mValueError\u001b[0m: Cannot set a frame with no defined index and a value that cannot be converted to a Series"
     ]
    }
   ],
   "source": [
    "medication_values = ['No', 'Down', 'Steady', 'Up']\n",
    "\n",
    "# y = dataset_df['readmitted']\n",
    "# y[y == '<30'] = 0\n",
    "# y[y == '>30'] = 1\n",
    "# y[y == 'NO'] = 2\n",
    "# y = np.array(y)\n",
    "# “No” = 0, “Down” = 1, “Steady” = 2, and “Up” = 3\n",
    "\n",
    "for medication in feature_medications.columns.values:\n",
    "    for index, value in enumerate(medication_values):\n",
    "        predictor_df[f\"{medication}_{value}\"] = \n",
    "        new_df[new_df[medication] == index]"
   ]
  },
  {
   "cell_type": "code",
   "execution_count": 252,
   "metadata": {},
   "outputs": [
    {
     "ename": "ImportError",
     "evalue": "cannot import name 'rmse' from 'sklearn.metrics' (C:\\Users\\aj132\\Anaconda3\\lib\\site-packages\\sklearn\\metrics\\__init__.py)",
     "output_type": "error",
     "traceback": [
      "\u001b[1;31m---------------------------------------------------------------------------\u001b[0m",
      "\u001b[1;31mImportError\u001b[0m                               Traceback (most recent call last)",
      "\u001b[1;32m<ipython-input-252-76d581f866ce>\u001b[0m in \u001b[0;36m<module>\u001b[1;34m\u001b[0m\n\u001b[0;32m      1\u001b[0m \u001b[1;32mimport\u001b[0m \u001b[0mpickle\u001b[0m\u001b[1;33m\u001b[0m\u001b[1;33m\u001b[0m\u001b[0m\n\u001b[1;32m----> 2\u001b[1;33m \u001b[1;32mfrom\u001b[0m \u001b[0msklearn\u001b[0m\u001b[1;33m.\u001b[0m\u001b[0mmetrics\u001b[0m \u001b[1;32mimport\u001b[0m \u001b[0mmean_absolute_error\u001b[0m\u001b[1;33m,\u001b[0m \u001b[0mmean_squared_error\u001b[0m\u001b[1;33m,\u001b[0m \u001b[0mrmse\u001b[0m\u001b[1;33m\u001b[0m\u001b[1;33m\u001b[0m\u001b[0m\n\u001b[0m\u001b[0;32m      3\u001b[0m \u001b[1;32mimport\u001b[0m \u001b[0mnumpy\u001b[0m \u001b[1;32mas\u001b[0m \u001b[0mnp\u001b[0m\u001b[1;33m\u001b[0m\u001b[1;33m\u001b[0m\u001b[0m\n\u001b[0;32m      4\u001b[0m \u001b[1;32mfrom\u001b[0m \u001b[0msklearn\u001b[0m\u001b[1;33m.\u001b[0m\u001b[0mmodel_selection\u001b[0m \u001b[1;32mimport\u001b[0m \u001b[0mtrain_test_split\u001b[0m\u001b[1;33m\u001b[0m\u001b[1;33m\u001b[0m\u001b[0m\n",
      "\u001b[1;31mImportError\u001b[0m: cannot import name 'rmse' from 'sklearn.metrics' (C:\\Users\\aj132\\Anaconda3\\lib\\site-packages\\sklearn\\metrics\\__init__.py)"
     ]
    }
   ],
   "source": [
    "import pickle\n",
    "from sklearn.metrics import mean_absolute_error, mean_squared_error\n",
    "import numpy as np\n",
    "from sklearn.model_selection import train_test_split"
   ]
  },
  {
   "cell_type": "code",
   "execution_count": 162,
   "metadata": {},
   "outputs": [],
   "source": [
    "PREDICTOR_DATA_PATH = \"predictor_alex_v1.pkl\"\n",
    "with open(PREDICTOR_DATA_PATH, 'rb') as data:\n",
    "    data_dict = pickle.load(data)"
   ]
  },
  {
   "cell_type": "code",
   "execution_count": 163,
   "metadata": {},
   "outputs": [
    {
     "data": {
      "text/plain": [
       "dict_keys(['context', 'one_hot_outcomes', 'categorical_outcomes'])"
      ]
     },
     "execution_count": 163,
     "metadata": {},
     "output_type": "execute_result"
    }
   ],
   "source": [
    "data_dict.keys()"
   ]
  },
  {
   "cell_type": "code",
   "execution_count": 164,
   "metadata": {},
   "outputs": [],
   "source": [
    "context_data = data_dict['context']\n",
    "one_hot_outcomes = data_dict['one_hot_outcomes']\n",
    "categorical_outcomes = data_dict['categorical_outcomes']"
   ]
  },
  {
   "cell_type": "code",
   "execution_count": 165,
   "metadata": {},
   "outputs": [
    {
     "data": {
      "text/plain": [
       "(101766, 120)"
      ]
     },
     "execution_count": 165,
     "metadata": {},
     "output_type": "execute_result"
    }
   ],
   "source": [
    "context_data.shape"
   ]
  },
  {
   "cell_type": "code",
   "execution_count": 166,
   "metadata": {},
   "outputs": [
    {
     "data": {
      "text/plain": [
       "array([[0, 0, 0, ..., 1, 0, 3],\n",
       "       [0, 0, 0, ..., 1, 0, 3],\n",
       "       [0, 0, 0, ..., 1, 0, 3],\n",
       "       ...,\n",
       "       [1, 0, 0, ..., 1, 0, 2],\n",
       "       [1, 0, 0, ..., 1, 0, 3],\n",
       "       [1, 0, 0, ..., 1, 0, 3]])"
      ]
     },
     "execution_count": 166,
     "metadata": {},
     "output_type": "execute_result"
    }
   ],
   "source": [
    "combined_data"
   ]
  },
  {
   "cell_type": "code",
   "execution_count": 167,
   "metadata": {},
   "outputs": [],
   "source": [
    "combined_data = np.hstack([context_data, categorical_outcomes])\n",
    "combined_data = np.array(combined_data, dtype=\"int\")\n",
    "combined_data = np.unique(combined_data, axis=0)\n",
    "context_data = combined_data[:, :-1]\n",
    "categorical_outcomes = combined_data[:, -1]"
   ]
  },
  {
   "cell_type": "code",
   "execution_count": 168,
   "metadata": {},
   "outputs": [
    {
     "data": {
      "text/plain": [
       "(76379,)"
      ]
     },
     "execution_count": 168,
     "metadata": {},
     "output_type": "execute_result"
    }
   ],
   "source": [
    "categorical_outcomes.shape"
   ]
  },
  {
   "cell_type": "code",
   "execution_count": 169,
   "metadata": {},
   "outputs": [],
   "source": [
    "categorical_outcomes\n",
    "from sklearn.preprocessing import MinMaxScaler\n",
    "\n",
    "scaler = MinMaxScaler()\n",
    "categorical_outcomes_scaled = scaler.fit_transform(categorical_outcomes.reshape(-1, 1))"
   ]
  },
  {
   "cell_type": "code",
   "execution_count": 170,
   "metadata": {},
   "outputs": [
    {
     "data": {
      "text/plain": [
       "array([[1. ],\n",
       "       [1. ],\n",
       "       [1. ],\n",
       "       ...,\n",
       "       [0.5],\n",
       "       [1. ],\n",
       "       [1. ]])"
      ]
     },
     "execution_count": 170,
     "metadata": {},
     "output_type": "execute_result"
    }
   ],
   "source": [
    "categorical_outcomes_scaled"
   ]
  },
  {
   "cell_type": "code",
   "execution_count": 171,
   "metadata": {},
   "outputs": [
    {
     "data": {
      "text/plain": [
       "1.0"
      ]
     },
     "execution_count": 171,
     "metadata": {},
     "output_type": "execute_result"
    }
   ],
   "source": [
    "max(categorical_outcomes_scaled[0])"
   ]
  },
  {
   "cell_type": "code",
   "execution_count": 194,
   "metadata": {},
   "outputs": [
    {
     "data": {
      "text/plain": [
       "(76379, 120)"
      ]
     },
     "execution_count": 194,
     "metadata": {},
     "output_type": "execute_result"
    }
   ],
   "source": [
    "context_data.shape"
   ]
  },
  {
   "cell_type": "code",
   "execution_count": 226,
   "metadata": {},
   "outputs": [
    {
     "name": "stdout",
     "output_type": "stream",
     "text": [
      "X_train: (68741, 120)\n",
      "X_test: (7638, 120)\n",
      "y_train: (68741, 1)\n",
      "y_test: (7638, 1)\n",
      "X_val: (1528, 120)\n",
      "X_test: (6110, 120)\n",
      "y_val: (1528, 1)\n",
      "y_test: (6110, 1)\n"
     ]
    }
   ],
   "source": [
    "X_train, X_test, y_train, y_test = train_test_split(context_data, categorical_outcomes_scaled, \n",
    "                                                    test_size=0.1, random_state=42)\n",
    "print(f'X_train: {X_train.shape}')\n",
    "print(f'X_test: {X_test.shape}')\n",
    "print(f'y_train: {y_train.shape}')\n",
    "print(f'y_test: {y_test.shape}')\n",
    "\n",
    "\n",
    "X_test, X_val, y_test, y_val = train_test_split(X_test, y_test, \n",
    "                                                    test_size=0.2, random_state=42)\n",
    "print(f'X_val: {X_val.shape}')\n",
    "print(f'X_test: {X_test.shape}')\n",
    "print(f'y_val: {y_val.shape}')\n",
    "print(f'y_test: {y_test.shape}')\n"
   ]
  },
  {
   "cell_type": "code",
   "execution_count": 227,
   "metadata": {},
   "outputs": [
    {
     "data": {
      "text/plain": [
       "(6110, 120)"
      ]
     },
     "execution_count": 227,
     "metadata": {},
     "output_type": "execute_result"
    }
   ],
   "source": [
    "X_test.shape"
   ]
  },
  {
   "cell_type": "code",
   "execution_count": 228,
   "metadata": {},
   "outputs": [
    {
     "data": {
      "text/plain": [
       "(6110, 1)"
      ]
     },
     "execution_count": 228,
     "metadata": {},
     "output_type": "execute_result"
    }
   ],
   "source": [
    "y_test.shape"
   ]
  },
  {
   "cell_type": "code",
   "execution_count": 199,
   "metadata": {},
   "outputs": [],
   "source": [
    "import os\n",
    "os.environ[\"KERAS_BACKEND\"]=\"tensorflow\"\n",
    "import keras\n",
    "from keras.layers import Input, Dense\n",
    "from keras.models import Model"
   ]
  },
  {
   "cell_type": "code",
   "execution_count": 249,
   "metadata": {},
   "outputs": [],
   "source": [
    "input_layer = Input((X_train.shape[1], ))\n",
    "hidden = Dense(units=64, activation=\"tanh\")(input_layer)\n",
    "# hidden = tf.keras.layers.BatchNormalization()(hidden)\n",
    "hidden = Dense(units=32, activation=\"relu\")(hidden)\n",
    "# hidden = Dense(units=32, activation=\"tanh\")(hidden)\n",
    "# hidden = tf.keras.layers.BatchNormalization()(hidden)\n",
    "hidden = Dense(units=16, activation=\"relu\")(hidden)\n",
    "# hidden = Dense(units=16, activation=\"tanh\")(hidden)\n",
    "# batch = tf.keras.layers.BatchNormalization()\n",
    "# hidden = Dense(units=8, activation=\"relu\")(hidden)\n",
    "output = Dense(units=1, activation=\"sigmoid\")(hidden) # CLF\n",
    "\n",
    "\n",
    "model = Model(input_layer, output)"
   ]
  },
  {
   "cell_type": "code",
   "execution_count": 250,
   "metadata": {},
   "outputs": [
    {
     "name": "stdout",
     "output_type": "stream",
     "text": [
      "_________________________________________________________________\n",
      "Layer (type)                 Output Shape              Param #   \n",
      "=================================================================\n",
      "input_26 (InputLayer)        (None, 120)               0         \n",
      "_________________________________________________________________\n",
      "dense_80 (Dense)             (None, 64)                7744      \n",
      "_________________________________________________________________\n",
      "dense_81 (Dense)             (None, 32)                2080      \n",
      "_________________________________________________________________\n",
      "dense_82 (Dense)             (None, 16)                528       \n",
      "_________________________________________________________________\n",
      "dense_83 (Dense)             (None, 1)                 17        \n",
      "=================================================================\n",
      "Total params: 10,369\n",
      "Trainable params: 10,369\n",
      "Non-trainable params: 0\n",
      "_________________________________________________________________\n"
     ]
    }
   ],
   "source": [
    "model.summary()"
   ]
  },
  {
   "cell_type": "code",
   "execution_count": 265,
   "metadata": {},
   "outputs": [],
   "source": [
    "model.compile(loss=keras.losses.mean_squared_error,\n",
    "              optimizer=keras.optimizers.Adam())"
   ]
  },
  {
   "cell_type": "code",
   "execution_count": 266,
   "metadata": {
    "scrolled": true
   },
   "outputs": [
    {
     "name": "stdout",
     "output_type": "stream",
     "text": [
      "Train on 68741 samples, validate on 6110 samples\n",
      "Epoch 1/100\n",
      "68741/68741 [==============================] - 4s 54us/step - loss: 0.1226 - val_loss: 0.1256\n",
      "Epoch 2/100\n",
      "68741/68741 [==============================] - 2s 33us/step - loss: 0.1218 - val_loss: 0.1254\n",
      "Epoch 3/100\n",
      "68741/68741 [==============================] - 2s 32us/step - loss: 0.1215 - val_loss: 0.1255\n",
      "Epoch 4/100\n",
      "68741/68741 [==============================] - 2s 32us/step - loss: 0.1213 - val_loss: 0.1254\n",
      "Epoch 5/100\n",
      "68741/68741 [==============================] - 2s 32us/step - loss: 0.1211 - val_loss: 0.1250\n",
      "Epoch 6/100\n",
      "68741/68741 [==============================] - 2s 33us/step - loss: 0.1209 - val_loss: 0.1254\n",
      "Epoch 7/100\n",
      "68741/68741 [==============================] - 2s 31us/step - loss: 0.1206 - val_loss: 0.1256\n",
      "Epoch 8/100\n",
      "68741/68741 [==============================] - 2s 32us/step - loss: 0.1205 - val_loss: 0.1258\n",
      "Epoch 9/100\n",
      "68741/68741 [==============================] - 2s 32us/step - loss: 0.1202 - val_loss: 0.1254\n",
      "Epoch 10/100\n",
      "68741/68741 [==============================] - 2s 32us/step - loss: 0.1201 - val_loss: 0.1249\n",
      "Epoch 11/100\n",
      "68741/68741 [==============================] - 2s 32us/step - loss: 0.1198 - val_loss: 0.1251\n",
      "Epoch 12/100\n",
      "68741/68741 [==============================] - 2s 32us/step - loss: 0.1196 - val_loss: 0.1250\n",
      "Epoch 13/100\n",
      "68741/68741 [==============================] - 2s 32us/step - loss: 0.1195 - val_loss: 0.1249\n",
      "Epoch 14/100\n",
      "68741/68741 [==============================] - 2s 33us/step - loss: 0.1193 - val_loss: 0.1250\n",
      "Epoch 15/100\n",
      "68741/68741 [==============================] - 2s 33us/step - loss: 0.1191 - val_loss: 0.1258\n",
      "Epoch 16/100\n",
      "68741/68741 [==============================] - 2s 36us/step - loss: 0.1190 - val_loss: 0.1256\n",
      "Epoch 17/100\n",
      "68741/68741 [==============================] - 3s 37us/step - loss: 0.1188 - val_loss: 0.1257\n",
      "Epoch 18/100\n",
      "68741/68741 [==============================] - 3s 37us/step - loss: 0.1186 - val_loss: 0.1255\n",
      "Epoch 19/100\n",
      "68741/68741 [==============================] - 2s 35us/step - loss: 0.1186 - val_loss: 0.1250\n",
      "Epoch 20/100\n",
      "68741/68741 [==============================] - 3s 37us/step - loss: 0.1184 - val_loss: 0.1276\n",
      "Epoch 21/100\n",
      "68741/68741 [==============================] - 3s 37us/step - loss: 0.1181 - val_loss: 0.1268\n",
      "Epoch 22/100\n",
      "68741/68741 [==============================] - 3s 36us/step - loss: 0.1180 - val_loss: 0.1260\n",
      "Epoch 23/100\n",
      "68741/68741 [==============================] - 2s 36us/step - loss: 0.1179 - val_loss: 0.1260\n",
      "Epoch 24/100\n",
      "68741/68741 [==============================] - 3s 36us/step - loss: 0.1177 - val_loss: 0.1264\n",
      "Epoch 25/100\n",
      "68741/68741 [==============================] - 2s 36us/step - loss: 0.1178 - val_loss: 0.1263\n",
      "Epoch 26/100\n",
      "68741/68741 [==============================] - 2s 36us/step - loss: 0.1174 - val_loss: 0.1261\n",
      "Epoch 27/100\n",
      "68741/68741 [==============================] - 3s 36us/step - loss: 0.1174 - val_loss: 0.1263\n",
      "Epoch 28/100\n",
      "68741/68741 [==============================] - 3s 37us/step - loss: 0.1172 - val_loss: 0.1266\n",
      "Epoch 29/100\n",
      "68741/68741 [==============================] - 2s 36us/step - loss: 0.1171 - val_loss: 0.1266\n",
      "Epoch 30/100\n",
      "68741/68741 [==============================] - 3s 42us/step - loss: 0.1168 - val_loss: 0.1266\n",
      "Epoch 31/100\n",
      "68741/68741 [==============================] - 3s 37us/step - loss: 0.1168 - val_loss: 0.1263\n",
      "Epoch 32/100\n",
      "68741/68741 [==============================] - 3s 39us/step - loss: 0.1166 - val_loss: 0.1268\n",
      "Epoch 33/100\n",
      "68741/68741 [==============================] - 3s 38us/step - loss: 0.1165 - val_loss: 0.1266\n",
      "Epoch 34/100\n",
      "68741/68741 [==============================] - 3s 38us/step - loss: 0.1164 - val_loss: 0.1271\n",
      "Epoch 35/100\n",
      "68741/68741 [==============================] - 3s 38us/step - loss: 0.1162 - val_loss: 0.1276\n",
      "Epoch 36/100\n",
      "68741/68741 [==============================] - 3s 38us/step - loss: 0.1160 - val_loss: 0.1270\n",
      "Epoch 37/100\n",
      "68741/68741 [==============================] - 3s 39us/step - loss: 0.1158 - val_loss: 0.1267\n",
      "Epoch 38/100\n",
      "68741/68741 [==============================] - 3s 39us/step - loss: 0.1156 - val_loss: 0.1271\n",
      "Epoch 39/100\n",
      "68741/68741 [==============================] - 3s 38us/step - loss: 0.1154 - val_loss: 0.1278\n",
      "Epoch 40/100\n",
      "68741/68741 [==============================] - 3s 38us/step - loss: 0.1152 - val_loss: 0.1279\n",
      "Epoch 41/100\n",
      "68741/68741 [==============================] - 3s 38us/step - loss: 0.1151 - val_loss: 0.1285\n",
      "Epoch 42/100\n",
      "68741/68741 [==============================] - 3s 37us/step - loss: 0.1149 - val_loss: 0.1290\n",
      "Epoch 43/100\n",
      "68741/68741 [==============================] - 3s 37us/step - loss: 0.1147 - val_loss: 0.1285\n",
      "Epoch 44/100\n",
      "68741/68741 [==============================] - 3s 37us/step - loss: 0.1146 - val_loss: 0.1288\n",
      "Epoch 45/100\n",
      "68741/68741 [==============================] - 3s 36us/step - loss: 0.1146 - val_loss: 0.1295\n",
      "Epoch 46/100\n",
      "68741/68741 [==============================] - 3s 37us/step - loss: 0.1143 - val_loss: 0.1292\n",
      "Epoch 47/100\n",
      "68741/68741 [==============================] - 3s 36us/step - loss: 0.1141 - val_loss: 0.1291\n",
      "Epoch 48/100\n",
      "68741/68741 [==============================] - 3s 37us/step - loss: 0.1140 - val_loss: 0.1307\n",
      "Epoch 49/100\n",
      "68741/68741 [==============================] - 2s 36us/step - loss: 0.1137 - val_loss: 0.1286\n",
      "Epoch 50/100\n",
      "68741/68741 [==============================] - 3s 37us/step - loss: 0.1135 - val_loss: 0.1302\n",
      "Epoch 51/100\n",
      "68741/68741 [==============================] - 2s 36us/step - loss: 0.1134 - val_loss: 0.1303\n",
      "Epoch 52/100\n",
      "68741/68741 [==============================] - 3s 37us/step - loss: 0.1133 - val_loss: 0.1307\n",
      "Epoch 53/100\n",
      "68741/68741 [==============================] - 3s 37us/step - loss: 0.1131 - val_loss: 0.1313\n",
      "Epoch 54/100\n",
      "68741/68741 [==============================] - 3s 37us/step - loss: 0.1130 - val_loss: 0.1304\n",
      "Epoch 55/100\n",
      "68741/68741 [==============================] - 2s 36us/step - loss: 0.1129 - val_loss: 0.1298\n",
      "Epoch 56/100\n",
      "68741/68741 [==============================] - 2s 36us/step - loss: 0.1126 - val_loss: 0.1309\n",
      "Epoch 57/100\n",
      "68741/68741 [==============================] - 3s 37us/step - loss: 0.1125 - val_loss: 0.1305\n",
      "Epoch 58/100\n",
      "68741/68741 [==============================] - 2s 36us/step - loss: 0.1123 - val_loss: 0.1309\n",
      "Epoch 59/100\n",
      "68741/68741 [==============================] - 2s 35us/step - loss: 0.1121 - val_loss: 0.1300\n",
      "Epoch 60/100\n",
      "68741/68741 [==============================] - 2s 35us/step - loss: 0.1121 - val_loss: 0.1312\n",
      "Epoch 61/100\n",
      "68741/68741 [==============================] - 2s 35us/step - loss: 0.1117 - val_loss: 0.1315\n",
      "Epoch 62/100\n",
      "68741/68741 [==============================] - 2s 35us/step - loss: 0.1117 - val_loss: 0.1313\n",
      "Epoch 63/100\n",
      "68741/68741 [==============================] - 2s 35us/step - loss: 0.1116 - val_loss: 0.1324\n",
      "Epoch 64/100\n",
      "68741/68741 [==============================] - 2s 35us/step - loss: 0.1112 - val_loss: 0.1315\n",
      "Epoch 65/100\n",
      "68741/68741 [==============================] - 2s 35us/step - loss: 0.1110 - val_loss: 0.1317\n",
      "Epoch 66/100\n",
      "68741/68741 [==============================] - 2s 35us/step - loss: 0.1108 - val_loss: 0.1318\n",
      "Epoch 67/100\n",
      "68741/68741 [==============================] - 2s 35us/step - loss: 0.1107 - val_loss: 0.1320\n",
      "Epoch 68/100\n",
      "68741/68741 [==============================] - 2s 35us/step - loss: 0.1106 - val_loss: 0.1327\n",
      "Epoch 69/100\n",
      "68741/68741 [==============================] - 2s 35us/step - loss: 0.1105 - val_loss: 0.1324\n",
      "Epoch 70/100\n",
      "68741/68741 [==============================] - 3s 36us/step - loss: 0.1104 - val_loss: 0.1330\n",
      "Epoch 71/100\n",
      "68741/68741 [==============================] - 3s 40us/step - loss: 0.1101 - val_loss: 0.1332\n",
      "Epoch 72/100\n",
      "68741/68741 [==============================] - 2s 35us/step - loss: 0.1100 - val_loss: 0.1323\n",
      "Epoch 73/100\n",
      "68741/68741 [==============================] - 2s 35us/step - loss: 0.1098 - val_loss: 0.1331\n",
      "Epoch 74/100\n",
      "68741/68741 [==============================] - 2s 35us/step - loss: 0.1098 - val_loss: 0.1323\n",
      "Epoch 75/100\n",
      "68741/68741 [==============================] - 2s 35us/step - loss: 0.1095 - val_loss: 0.1340\n",
      "Epoch 76/100\n",
      "68741/68741 [==============================] - 2s 36us/step - loss: 0.1094 - val_loss: 0.1342\n",
      "Epoch 77/100\n"
     ]
    },
    {
     "name": "stdout",
     "output_type": "stream",
     "text": [
      "68741/68741 [==============================] - 2s 35us/step - loss: 0.1092 - val_loss: 0.1333\n",
      "Epoch 78/100\n",
      "68741/68741 [==============================] - 2s 35us/step - loss: 0.1092 - val_loss: 0.1331\n",
      "Epoch 79/100\n",
      "68741/68741 [==============================] - 2s 35us/step - loss: 0.1090 - val_loss: 0.1344\n",
      "Epoch 80/100\n",
      "68741/68741 [==============================] - 2s 35us/step - loss: 0.1088 - val_loss: 0.1329\n",
      "Epoch 81/100\n",
      "68741/68741 [==============================] - 2s 35us/step - loss: 0.1087 - val_loss: 0.1355\n",
      "Epoch 82/100\n",
      "68741/68741 [==============================] - 2s 35us/step - loss: 0.1086 - val_loss: 0.1358\n",
      "Epoch 83/100\n",
      "68741/68741 [==============================] - 2s 35us/step - loss: 0.1084 - val_loss: 0.1361\n",
      "Epoch 84/100\n",
      "68741/68741 [==============================] - 2s 35us/step - loss: 0.1084 - val_loss: 0.1356\n",
      "Epoch 85/100\n",
      "68741/68741 [==============================] - 2s 35us/step - loss: 0.1082 - val_loss: 0.1348\n",
      "Epoch 86/100\n",
      "68741/68741 [==============================] - 2s 35us/step - loss: 0.1082 - val_loss: 0.1350\n",
      "Epoch 87/100\n",
      "68741/68741 [==============================] - 3s 36us/step - loss: 0.1079 - val_loss: 0.1355\n",
      "Epoch 88/100\n",
      "68741/68741 [==============================] - 3s 37us/step - loss: 0.1080 - val_loss: 0.1364\n",
      "Epoch 89/100\n",
      "68741/68741 [==============================] - 2s 36us/step - loss: 0.1077 - val_loss: 0.1359\n",
      "Epoch 90/100\n",
      "68741/68741 [==============================] - 3s 36us/step - loss: 0.1077 - val_loss: 0.1355\n",
      "Epoch 91/100\n",
      "68741/68741 [==============================] - 3s 37us/step - loss: 0.1074 - val_loss: 0.1361\n",
      "Epoch 92/100\n",
      "68741/68741 [==============================] - 2s 36us/step - loss: 0.1074 - val_loss: 0.1368\n",
      "Epoch 93/100\n",
      "68741/68741 [==============================] - 3s 36us/step - loss: 0.1071 - val_loss: 0.1374\n",
      "Epoch 94/100\n",
      "68741/68741 [==============================] - 3s 38us/step - loss: 0.1069 - val_loss: 0.1365\n",
      "Epoch 95/100\n",
      "68741/68741 [==============================] - 3s 37us/step - loss: 0.1070 - val_loss: 0.1368\n",
      "Epoch 96/100\n",
      "68741/68741 [==============================] - 3s 39us/step - loss: 0.1068 - val_loss: 0.1379\n",
      "Epoch 97/100\n",
      "68741/68741 [==============================] - 3s 39us/step - loss: 0.1069 - val_loss: 0.1371\n",
      "Epoch 98/100\n",
      "68741/68741 [==============================] - 3s 37us/step - loss: 0.1066 - val_loss: 0.1367\n",
      "Epoch 99/100\n",
      "68741/68741 [==============================] - 2s 36us/step - loss: 0.1064 - val_loss: 0.1369\n",
      "Epoch 100/100\n",
      "68741/68741 [==============================] - 3s 37us/step - loss: 0.1063 - val_loss: 0.1378\n"
     ]
    }
   ],
   "source": [
    "num_epochs = 100\n",
    "batch_size = 128\n",
    "\n",
    "with tf.device(\"CPU:0\"):\n",
    "    # num_samples = len(y_train)\n",
    "    history = model.fit(X_train, y_train,\n",
    "                        batch_size=batch_size,\n",
    "                        epochs=num_epochs,\n",
    "                        verbose=1,\n",
    "                        validation_data=(X_test, y_test))"
   ]
  },
  {
   "cell_type": "code",
   "execution_count": 81,
   "metadata": {},
   "outputs": [
    {
     "data": {
      "text/plain": [
       "array([[0. ],\n",
       "       [1. ],\n",
       "       [1. ],\n",
       "       ...,\n",
       "       [1. ],\n",
       "       [0.5],\n",
       "       [1. ]])"
      ]
     },
     "execution_count": 81,
     "metadata": {},
     "output_type": "execute_result"
    }
   ],
   "source": [
    "y_train"
   ]
  },
  {
   "cell_type": "code",
   "execution_count": 138,
   "metadata": {},
   "outputs": [
    {
     "data": {
      "text/plain": [
       "(73123, 121)"
      ]
     },
     "execution_count": 138,
     "metadata": {},
     "output_type": "execute_result"
    }
   ],
   "source": [
    "np.unique(np.hstack([X_train, y_train]), axis=0)"
   ]
  },
  {
   "cell_type": "code",
   "execution_count": 191,
   "metadata": {},
   "outputs": [
    {
     "name": "stdout",
     "output_type": "stream",
     "text": [
      "absl-py==0.8.1\n",
      "alabaster==0.7.12\n",
      "altgraph==0.16.1\n",
      "anaconda-client==1.7.2\n",
      "anaconda-navigator==1.9.7\n",
      "anaconda-project==0.8.3\n",
      "asn1crypto==0.24.0\n",
      "astor==0.8.0\n",
      "astroid==2.2.5\n",
      "astropy==3.2.1\n",
      "atomicwrites==1.3.0\n",
      "attrs==19.1.0\n",
      "autopep8==1.4.4\n",
      "awscli==1.18.50\n",
      "Babel==2.7.0\n",
      "backcall==0.1.0\n",
      "backports.functools-lru-cache==1.5\n",
      "backports.os==0.1.1\n",
      "backports.shutil-get-terminal-size==1.0.0\n",
      "backports.tempfile==1.0\n",
      "backports.weakref==1.0.post1\n",
      "beautifulsoup4==4.7.1\n",
      "bitarray==0.9.3\n",
      "bkcharts==0.2\n",
      "bleach==3.1.0\n",
      "blis==0.4.1\n",
      "bokeh==1.2.0\n",
      "boto==2.49.0\n",
      "boto3==1.13.0\n",
      "botocore==1.16.0\n",
      "Bottleneck==1.2.1\n",
      "cachetools==3.1.1\n",
      "catalogue==1.0.0\n",
      "catboost==0.20.2\n",
      "certifi==2019.9.11\n",
      "cffi==1.12.3\n",
      "chardet==3.0.4\n",
      "chart-studio==1.1.0\n",
      "Click==7.0\n",
      "cloudpickle==1.2.1\n",
      "clyent==1.2.2\n",
      "colorama==0.4.1\n",
      "colorlover==0.3.0\n",
      "combo==0.1.0\n",
      "comtypes==1.1.7\n",
      "conda==4.7.12\n",
      "conda-build==3.18.8\n",
      "conda-package-handling==1.3.11\n",
      "conda-verify==3.4.2\n",
      "confuse==1.1.0\n",
      "contextlib2==0.5.5\n",
      "cryptography==2.7\n",
      "cufflinks==0.17.0\n",
      "cycler==0.10.0\n",
      "cymem==2.0.3\n",
      "Cython==0.29.12\n",
      "cytoolz==0.10.0\n",
      "dask==2.1.0\n",
      "datefinder==0.7.0\n",
      "DateTime==4.3\n",
      "decorator==4.4.0\n",
      "defusedxml==0.6.0\n",
      "distributed==2.1.0\n",
      "docutils==0.14\n",
      "entrypoints==0.3\n",
      "enum34==1.1.10\n",
      "et-xmlfile==1.0.1\n",
      "fastcache==1.1.0\n",
      "filelock==3.0.12\n",
      "Flask==1.1.1\n",
      "funcy==1.14\n",
      "future==0.17.1\n",
      "gast==0.2.2\n",
      "gensim==3.8.2\n",
      "gevent==1.4.0\n",
      "glob2==0.7\n",
      "google-api-python-client==1.7.11\n",
      "google-auth==1.7.1\n",
      "google-auth-httplib2==0.0.3\n",
      "google-auth-oauthlib==0.4.1\n",
      "google-pasta==0.1.7\n",
      "graphviz==0.14\n",
      "greenlet==0.4.15\n",
      "grpcio==1.24.1\n",
      "h5py==2.10.0\n",
      "heapdict==1.0.0\n",
      "html5lib==1.0.1\n",
      "htmlmin==0.1.12\n",
      "httplib2==0.14.0\n",
      "idna==2.8\n",
      "imageio==2.5.0\n",
      "imagesize==1.1.0\n",
      "importlib-metadata==1.6.0\n",
      "ipykernel==5.1.1\n",
      "ipython==7.6.1\n",
      "ipython-genutils==0.2.0\n",
      "ipywidgets==7.5.0\n",
      "isort==4.3.21\n",
      "itsdangerous==1.1.0\n",
      "jdcal==1.4.1\n",
      "jedi==0.13.3\n",
      "Jinja2==2.10.1\n",
      "jmespath==0.9.5\n",
      "joblib==0.13.2\n",
      "json5==0.8.4\n",
      "jsonschema==3.0.1\n",
      "jupyter==1.0.0\n",
      "jupyter-client==5.3.1\n",
      "jupyter-console==6.0.0\n",
      "jupyter-core==4.5.0\n",
      "jupyterlab==1.0.2\n",
      "jupyterlab-server==1.0.0\n",
      "Keras==2.2.4\n",
      "Keras-Applications==1.0.8\n",
      "Keras-Preprocessing==1.1.0\n",
      "keyring==18.0.0\n",
      "kiwisolver==1.1.0\n",
      "kmodes==0.10.1\n",
      "lazy-object-proxy==1.4.1\n",
      "libarchive-c==2.8\n",
      "lightgbm==2.3.1\n",
      "LiveWires==2.0\n",
      "llvmlite==0.29.0\n",
      "locket==0.2.0\n",
      "lxml==4.3.4\n",
      "Markdown==3.1.1\n",
      "MarkupSafe==1.1.1\n",
      "matplotlib==3.1.0\n",
      "mccabe==0.6.1\n",
      "menuinst==1.4.16\n",
      "missingno==0.4.2\n",
      "mistune==0.8.4\n",
      "mkl-fft==1.0.12\n",
      "mkl-random==1.0.2\n",
      "mkl-service==2.0.2\n",
      "mlxtend==0.17.2\n",
      "mock==3.0.5\n",
      "more-itertools==7.0.0\n",
      "mpmath==1.1.0\n",
      "msgpack==0.6.1\n",
      "multipledispatch==0.6.0\n",
      "murmurhash==1.0.2\n",
      "navigator-updater==0.2.1\n",
      "nbconvert==5.5.0\n",
      "nbformat==4.4.0\n",
      "networkx==2.3\n",
      "nltk==3.4.4\n",
      "nose==1.3.7\n",
      "notebook==6.0.0\n",
      "numba==0.44.1\n",
      "numexpr==2.6.9\n",
      "numpy==1.17.3\n",
      "numpydoc==0.9.1\n",
      "oauthlib==3.1.0\n",
      "olefile==0.46\n",
      "opencv-python==4.1.1.26\n",
      "openpyxl==2.6.2\n",
      "opt-einsum==3.1.0\n",
      "packaging==19.0\n",
      "pandas==0.24.2\n",
      "pandas-profiling==2.3.0\n",
      "pandocfilters==1.4.2\n",
      "parso==0.5.0\n",
      "partd==1.0.0\n",
      "path.py==12.0.1\n",
      "pathlib2==2.3.4\n",
      "patsy==0.5.1\n",
      "pefile==2019.4.18\n",
      "pep8==1.7.1\n",
      "phik==0.9.11\n",
      "pickleshare==0.7.5\n",
      "pika==1.1.0\n",
      "Pillow==6.1.0\n",
      "pkginfo==1.5.0.1\n",
      "plac==1.1.3\n",
      "plaidml==0.7.0\n",
      "plaidml-keras==0.7.0\n",
      "plotly==4.4.1\n",
      "pluggy==0.12.0\n",
      "ply==3.11\n",
      "preshed==3.0.2\n",
      "prometheus-client==0.7.1\n",
      "prompt-toolkit==2.0.9\n",
      "protobuf==3.10.0\n",
      "psutil==5.6.3\n",
      "py==1.8.0\n",
      "pyasn1==0.4.8\n",
      "pyasn1-modules==0.2.7\n",
      "pycaret==1.0.0\n",
      "pycodestyle==2.5.0\n",
      "pycosat==0.6.3\n",
      "pycparser==2.19\n",
      "pycrypto==2.6.1\n",
      "pycurl==7.43.0.3\n",
      "pydot==1.4.1\n",
      "pyflakes==2.1.1\n",
      "pygame==1.9.6\n",
      "Pygments==2.4.2\n",
      "pyhocon==0.3.51\n",
      "PyInstaller==3.5\n",
      "pyLDAvis==2.1.2\n",
      "pylint==2.3.1\n",
      "pyod==0.7.8.2\n",
      "pyodbc==4.0.26\n",
      "pyOpenSSL==19.0.0\n",
      "pyparsing==2.4.0\n",
      "pyreadline==2.1\n",
      "pyrsistent==0.14.11\n",
      "PySocks==1.7.0\n",
      "pytest==5.0.1\n",
      "pytest-arraydiff==0.3\n",
      "pytest-astropy==0.5.0\n",
      "pytest-doctestplus==0.3.0\n",
      "pytest-openfiles==0.3.2\n",
      "pytest-remotedata==0.3.1\n",
      "python-dateutil==2.8.0\n",
      "python-pygaze==0.6.4\n",
      "pytz==2019.1\n",
      "pyunsplash==1.0.0b8\n",
      "PyWavelets==1.0.3\n",
      "pywin32==223\n",
      "pywin32-ctypes==0.2.0\n",
      "pywinpty==0.5.5\n",
      "PyYAML==5.1.2\n",
      "pyzmq==18.0.0\n",
      "QtAwesome==0.5.7\n",
      "qtconsole==4.5.1\n",
      "QtPy==1.8.0\n",
      "regex==2020.4.4\n",
      "registry==0.4.2\n",
      "requests==2.22.0\n",
      "requests-oauthlib==1.3.0\n",
      "retrying==1.3.3\n",
      "rope==0.14.0\n",
      "rsa==3.4.2\n",
      "ruamel-yaml==0.15.46\n",
      "s3transfer==0.3.3\n",
      "scikit-image==0.15.0\n",
      "scikit-learn==0.22\n",
      "scipy==1.3.1\n",
      "seaborn==0.9.0\n",
      "Send2Trash==1.5.0\n",
      "shap==0.32.1\n",
      "simplegeneric==0.8.1\n",
      "singledispatch==3.4.0.3\n",
      "six==1.12.0\n",
      "smart-open==2.0.0\n",
      "snowballstemmer==1.9.0\n",
      "sortedcollections==1.1.2\n",
      "sortedcontainers==2.1.0\n",
      "soupsieve==1.8\n",
      "spacy==2.2.4\n",
      "Sphinx==2.1.2\n",
      "sphinxcontrib-applehelp==1.0.1\n",
      "sphinxcontrib-devhelp==1.0.1\n",
      "sphinxcontrib-htmlhelp==1.0.2\n",
      "sphinxcontrib-jsmath==1.0.1\n",
      "sphinxcontrib-qthelp==1.0.2\n",
      "sphinxcontrib-serializinghtml==1.1.3\n",
      "sphinxcontrib-websupport==1.1.2\n",
      "spyder==3.3.6\n",
      "spyder-kernels==0.5.1\n",
      "SQLAlchemy==1.3.5\n",
      "srsly==1.0.2\n",
      "statsmodels==0.10.0\n",
      "suod==0.0.4\n",
      "sympy==1.4\n",
      "tables==3.5.2\n",
      "tbb==2019.0\n",
      "tblib==1.4.0\n",
      "tensorboard==1.15.0\n",
      "tensorflow==1.15.0\n",
      "tensorflow-estimator==1.15.1\n",
      "tensorflow-gpu==1.15.0\n",
      "termcolor==1.1.0\n",
      "terminado==0.8.2\n",
      "testpath==0.4.2\n",
      "textblob==0.15.3\n",
      "thinc==7.4.0\n",
      "toolz==0.10.0\n",
      "tornado==6.0.3\n",
      "tqdm==4.45.0\n",
      "traitlets==4.3.2\n",
      "typed-ast==1.4.0\n",
      "umap-learn==0.4.2\n",
      "unicodecsv==0.14.1\n",
      "uritemplate==3.0.0\n",
      "urllib3==1.24.2\n",
      "wasabi==0.6.0\n",
      "wcwidth==0.1.7\n",
      "webencodings==0.5.1\n",
      "Werkzeug==0.16.0\n",
      "widgetsnbextension==3.5.0\n",
      "win-inet-pton==1.1.0\n",
      "win-unicode-console==0.5\n",
      "wincertstore==0.2\n",
      "wordcloud==1.6.0\n",
      "wrapt==1.11.2\n",
      "xgboost==0.90\n",
      "xlrd==1.2.0\n",
      "XlsxWriter==1.1.8\n",
      "xlwings==0.15.8\n",
      "xlwt==1.3.0\n",
      "yellowbrick==1.0.1\n",
      "zict==1.0.0\n",
      "zipp==0.5.1\n",
      "zope.interface==5.1.0\n"
     ]
    }
   ],
   "source": [
    "!pip freeze"
   ]
  },
  {
   "cell_type": "code",
   "execution_count": 187,
   "metadata": {},
   "outputs": [
    {
     "name": "stdout",
     "output_type": "stream",
     "text": [
      "[name: \"/device:CPU:0\"\n",
      "device_type: \"CPU\"\n",
      "memory_limit: 268435456\n",
      "locality {\n",
      "}\n",
      "incarnation: 10925251297613854556\n",
      ", name: \"/device:GPU:0\"\n",
      "device_type: \"GPU\"\n",
      "memory_limit: 3144653209\n",
      "locality {\n",
      "  bus_id: 1\n",
      "  links {\n",
      "  }\n",
      "}\n",
      "incarnation: 11040214674259234142\n",
      "physical_device_desc: \"device: 0, name: GeForce GTX 1050 Ti with Max-Q Design, pci bus id: 0000:01:00.0, compute capability: 6.1\"\n",
      "]\n"
     ]
    }
   ],
   "source": [
    "from tensorflow.python.client import device_lib \n",
    "print(device_lib.list_local_devices())"
   ]
  },
  {
   "cell_type": "code",
   "execution_count": 190,
   "metadata": {},
   "outputs": [
    {
     "name": "stdout",
     "output_type": "stream",
     "text": [
      "Requirement already satisfied: pycaret in c:\\users\\aj132\\anaconda3\\lib\\site-packages (1.0.0)\n",
      "Requirement already satisfied: gensim in c:\\users\\aj132\\anaconda3\\lib\\site-packages (from pycaret) (3.8.2)\n",
      "Requirement already satisfied: pyod in c:\\users\\aj132\\anaconda3\\lib\\site-packages (from pycaret) (0.7.8.2)\n",
      "Requirement already satisfied: yellowbrick==1.0.1 in c:\\users\\aj132\\anaconda3\\lib\\site-packages (from pycaret) (1.0.1)\n",
      "Requirement already satisfied: datetime in c:\\users\\aj132\\anaconda3\\lib\\site-packages (from pycaret) (4.3)\n",
      "Requirement already satisfied: seaborn in c:\\users\\aj132\\anaconda3\\lib\\site-packages (from pycaret) (0.9.0)\n",
      "Requirement already satisfied: pandas in c:\\users\\aj132\\anaconda3\\lib\\site-packages (from pycaret) (0.24.2)\n",
      "Requirement already satisfied: catboost==0.20.2 in c:\\users\\aj132\\anaconda3\\lib\\site-packages (from pycaret) (0.20.2)\n",
      "Requirement already satisfied: cufflinks==0.17.0 in c:\\users\\aj132\\anaconda3\\lib\\site-packages (from pycaret) (0.17.0)\n",
      "Requirement already satisfied: nltk in c:\\users\\aj132\\anaconda3\\lib\\site-packages (from pycaret) (3.4.4)\n",
      "Requirement already satisfied: plotly==4.4.1 in c:\\users\\aj132\\anaconda3\\lib\\site-packages (from pycaret) (4.4.1)\n",
      "Requirement already satisfied: lightgbm==2.3.1 in c:\\users\\aj132\\anaconda3\\lib\\site-packages (from pycaret) (2.3.1)\n",
      "Requirement already satisfied: joblib in c:\\users\\aj132\\anaconda3\\lib\\site-packages (from pycaret) (0.13.2)\n",
      "Requirement already satisfied: mlxtend in c:\\users\\aj132\\anaconda3\\lib\\site-packages (from pycaret) (0.17.2)\n",
      "Requirement already satisfied: IPython in c:\\users\\aj132\\anaconda3\\lib\\site-packages (from pycaret) (7.6.1)\n",
      "Requirement already satisfied: pyLDAvis in c:\\users\\aj132\\anaconda3\\lib\\site-packages (from pycaret) (2.1.2)\n",
      "Requirement already satisfied: ipywidgets in c:\\users\\aj132\\anaconda3\\lib\\site-packages (from pycaret) (7.5.0)\n",
      "Requirement already satisfied: textblob in c:\\users\\aj132\\anaconda3\\lib\\site-packages (from pycaret) (0.15.3)\n",
      "Requirement already satisfied: scikit-learn==0.22 in c:\\users\\aj132\\anaconda3\\lib\\site-packages (from pycaret) (0.22)\n",
      "Requirement already satisfied: datefinder==0.7.0 in c:\\users\\aj132\\anaconda3\\lib\\site-packages (from pycaret) (0.7.0)\n",
      "Requirement already satisfied: pandas-profiling==2.3.0 in c:\\users\\aj132\\anaconda3\\lib\\site-packages (from pycaret) (2.3.0)\n",
      "Requirement already satisfied: spacy in c:\\users\\aj132\\anaconda3\\lib\\site-packages (from pycaret) (2.2.4)\n",
      "Requirement already satisfied: shap==0.32.1 in c:\\users\\aj132\\anaconda3\\lib\\site-packages (from pycaret) (0.32.1)\n",
      "Requirement already satisfied: numpy in c:\\users\\aj132\\anaconda3\\lib\\site-packages (from pycaret) (1.17.3)\n",
      "Requirement already satisfied: wordcloud in c:\\users\\aj132\\anaconda3\\lib\\site-packages (from pycaret) (1.6.0)\n",
      "Requirement already satisfied: xgboost==0.90 in c:\\users\\aj132\\anaconda3\\lib\\site-packages (from pycaret) (0.90)\n",
      "Requirement already satisfied: kmodes==0.10.1 in c:\\users\\aj132\\anaconda3\\lib\\site-packages (from pycaret) (0.10.1)\n",
      "Requirement already satisfied: umap-learn in c:\\users\\aj132\\anaconda3\\lib\\site-packages (from pycaret) (0.4.2)\n",
      "Requirement already satisfied: awscli in c:\\users\\aj132\\anaconda3\\lib\\site-packages (from pycaret) (1.18.50)\n",
      "Requirement already satisfied: matplotlib in c:\\users\\aj132\\anaconda3\\lib\\site-packages (from pycaret) (3.1.0)\n",
      "Requirement already satisfied: six>=1.5.0 in c:\\users\\aj132\\appdata\\roaming\\python\\python37\\site-packages (from gensim->pycaret) (1.12.0)\n",
      "Requirement already satisfied: smart-open>=1.8.1 in c:\\users\\aj132\\anaconda3\\lib\\site-packages (from gensim->pycaret) (2.0.0)\n",
      "Requirement already satisfied: scipy>=1.0.0 in c:\\users\\aj132\\anaconda3\\lib\\site-packages (from gensim->pycaret) (1.3.1)\n",
      "Requirement already satisfied: numba>=0.35 in c:\\users\\aj132\\anaconda3\\lib\\site-packages (from pyod->pycaret) (0.44.1)\n",
      "Requirement already satisfied: combo in c:\\users\\aj132\\anaconda3\\lib\\site-packages (from pyod->pycaret) (0.1.0)\n",
      "Requirement already satisfied: suod in c:\\users\\aj132\\anaconda3\\lib\\site-packages (from pyod->pycaret) (0.0.4)\n",
      "Requirement already satisfied: cycler>=0.10.0 in c:\\users\\aj132\\anaconda3\\lib\\site-packages (from yellowbrick==1.0.1->pycaret) (0.10.0)\n",
      "Requirement already satisfied: pytz in c:\\users\\aj132\\anaconda3\\lib\\site-packages (from datetime->pycaret) (2019.1)\n",
      "Requirement already satisfied: zope.interface in c:\\users\\aj132\\anaconda3\\lib\\site-packages (from datetime->pycaret) (5.1.0)\n",
      "Requirement already satisfied: python-dateutil>=2.5.0 in c:\\users\\aj132\\anaconda3\\lib\\site-packages (from pandas->pycaret) (2.8.0)\n",
      "Requirement already satisfied: graphviz in c:\\users\\aj132\\anaconda3\\lib\\site-packages (from catboost==0.20.2->pycaret) (0.14)\n",
      "Requirement already satisfied: colorlover>=0.2.1 in c:\\users\\aj132\\anaconda3\\lib\\site-packages (from cufflinks==0.17.0->pycaret) (0.3.0)\n",
      "Requirement already satisfied: setuptools>=34.4.1 in c:\\users\\aj132\\anaconda3\\lib\\site-packages (from cufflinks==0.17.0->pycaret) (41.4.0)\n",
      "Requirement already satisfied: chart-studio>=1.0.0 in c:\\users\\aj132\\anaconda3\\lib\\site-packages (from cufflinks==0.17.0->pycaret) (1.1.0)\n",
      "Requirement already satisfied: retrying>=1.3.3 in c:\\users\\aj132\\anaconda3\\lib\\site-packages (from plotly==4.4.1->pycaret) (1.3.3)\n",
      "Requirement already satisfied: pickleshare in c:\\users\\aj132\\anaconda3\\lib\\site-packages (from IPython->pycaret) (0.7.5)\n",
      "Requirement already satisfied: decorator in c:\\users\\aj132\\anaconda3\\lib\\site-packages (from IPython->pycaret) (4.4.0)\n",
      "Requirement already satisfied: backcall in c:\\users\\aj132\\anaconda3\\lib\\site-packages (from IPython->pycaret) (0.1.0)\n",
      "Requirement already satisfied: traitlets>=4.2 in c:\\users\\aj132\\anaconda3\\lib\\site-packages (from IPython->pycaret) (4.3.2)\n",
      "Requirement already satisfied: colorama; sys_platform == \"win32\" in c:\\users\\aj132\\appdata\\roaming\\python\\python37\\site-packages (from IPython->pycaret) (0.4.1)\n",
      "Requirement already satisfied: prompt-toolkit<2.1.0,>=2.0.0 in c:\\users\\aj132\\anaconda3\\lib\\site-packages (from IPython->pycaret) (2.0.9)\n",
      "Requirement already satisfied: pygments in c:\\users\\aj132\\anaconda3\\lib\\site-packages (from IPython->pycaret) (2.4.2)\n",
      "Requirement already satisfied: jedi>=0.10 in c:\\users\\aj132\\anaconda3\\lib\\site-packages (from IPython->pycaret) (0.13.3)\n",
      "Requirement already satisfied: numexpr in c:\\users\\aj132\\anaconda3\\lib\\site-packages (from pyLDAvis->pycaret) (2.6.9)\n",
      "Requirement already satisfied: future in c:\\users\\aj132\\anaconda3\\lib\\site-packages (from pyLDAvis->pycaret) (0.17.1)\n",
      "Requirement already satisfied: pytest in c:\\users\\aj132\\anaconda3\\lib\\site-packages (from pyLDAvis->pycaret) (5.0.1)\n",
      "Requirement already satisfied: jinja2>=2.7.2 in c:\\users\\aj132\\anaconda3\\lib\\site-packages (from pyLDAvis->pycaret) (2.10.1)\n",
      "Requirement already satisfied: wheel>=0.23.0 in c:\\users\\aj132\\anaconda3\\lib\\site-packages (from pyLDAvis->pycaret) (0.33.6)\n",
      "Requirement already satisfied: funcy in c:\\users\\aj132\\anaconda3\\lib\\site-packages (from pyLDAvis->pycaret) (1.14)\n",
      "Requirement already satisfied: nbformat>=4.2.0 in c:\\users\\aj132\\anaconda3\\lib\\site-packages (from ipywidgets->pycaret) (4.4.0)\n",
      "Requirement already satisfied: ipykernel>=4.5.1 in c:\\users\\aj132\\anaconda3\\lib\\site-packages (from ipywidgets->pycaret) (5.1.1)\n",
      "Requirement already satisfied: widgetsnbextension~=3.5.0 in c:\\users\\aj132\\anaconda3\\lib\\site-packages (from ipywidgets->pycaret) (3.5.0)\n",
      "Requirement already satisfied: regex>=2017.02.08 in c:\\users\\aj132\\anaconda3\\lib\\site-packages (from datefinder==0.7.0->pycaret) (2020.4.4)\n",
      "Requirement already satisfied: phik>=0.9.8 in c:\\users\\aj132\\anaconda3\\lib\\site-packages (from pandas-profiling==2.3.0->pycaret) (0.9.11)\n",
      "Requirement already satisfied: astropy in c:\\users\\aj132\\anaconda3\\lib\\site-packages (from pandas-profiling==2.3.0->pycaret) (3.2.1)\n",
      "Requirement already satisfied: htmlmin>=0.1.12 in c:\\users\\aj132\\anaconda3\\lib\\site-packages (from pandas-profiling==2.3.0->pycaret) (0.1.12)\n",
      "Requirement already satisfied: confuse>=1.0.0 in c:\\users\\aj132\\anaconda3\\lib\\site-packages (from pandas-profiling==2.3.0->pycaret) (1.1.0)\n",
      "Requirement already satisfied: missingno>=0.4.2 in c:\\users\\aj132\\anaconda3\\lib\\site-packages (from pandas-profiling==2.3.0->pycaret) (0.4.2)\n",
      "Requirement already satisfied: thinc==7.4.0 in c:\\users\\aj132\\anaconda3\\lib\\site-packages (from spacy->pycaret) (7.4.0)\n",
      "Requirement already satisfied: blis<0.5.0,>=0.4.0 in c:\\users\\aj132\\anaconda3\\lib\\site-packages (from spacy->pycaret) (0.4.1)\n",
      "Requirement already satisfied: wasabi<1.1.0,>=0.4.0 in c:\\users\\aj132\\anaconda3\\lib\\site-packages (from spacy->pycaret) (0.6.0)\n",
      "Requirement already satisfied: requests<3.0.0,>=2.13.0 in c:\\users\\aj132\\anaconda3\\lib\\site-packages (from spacy->pycaret) (2.22.0)\n",
      "Requirement already satisfied: preshed<3.1.0,>=3.0.2 in c:\\users\\aj132\\anaconda3\\lib\\site-packages (from spacy->pycaret) (3.0.2)\n",
      "Requirement already satisfied: plac<1.2.0,>=0.9.6 in c:\\users\\aj132\\anaconda3\\lib\\site-packages (from spacy->pycaret) (1.1.3)\n",
      "Requirement already satisfied: cymem<2.1.0,>=2.0.2 in c:\\users\\aj132\\anaconda3\\lib\\site-packages (from spacy->pycaret) (2.0.3)\n",
      "Requirement already satisfied: murmurhash<1.1.0,>=0.28.0 in c:\\users\\aj132\\anaconda3\\lib\\site-packages (from spacy->pycaret) (1.0.2)\n",
      "Requirement already satisfied: srsly<1.1.0,>=1.0.2 in c:\\users\\aj132\\anaconda3\\lib\\site-packages (from spacy->pycaret) (1.0.2)\n",
      "Requirement already satisfied: catalogue<1.1.0,>=0.0.7 in c:\\users\\aj132\\anaconda3\\lib\\site-packages (from spacy->pycaret) (1.0.0)\n",
      "Collecting tqdm<5.0.0,>=4.38.0\n",
      "  Using cached tqdm-4.45.0-py2.py3-none-any.whl (60 kB)\n",
      "Requirement already satisfied: pillow in c:\\users\\aj132\\anaconda3\\lib\\site-packages (from wordcloud->pycaret) (6.1.0)\n",
      "Requirement already satisfied: tbb>=2019.0 in c:\\users\\aj132\\anaconda3\\lib\\site-packages (from umap-learn->pycaret) (2019.0)\n",
      "Requirement already satisfied: docutils<0.16,>=0.10 in c:\\users\\aj132\\anaconda3\\lib\\site-packages (from awscli->pycaret) (0.14)\n",
      "Requirement already satisfied: rsa<=3.5.0,>=3.1.2 in c:\\users\\aj132\\anaconda3\\lib\\site-packages (from awscli->pycaret) (3.4.2)\n",
      "Requirement already satisfied: PyYAML<5.4,>=3.10; python_version != \"3.4\" in c:\\users\\aj132\\anaconda3\\lib\\site-packages (from awscli->pycaret) (5.1.2)\n",
      "Requirement already satisfied: s3transfer<0.4.0,>=0.3.0 in c:\\users\\aj132\\anaconda3\\lib\\site-packages (from awscli->pycaret) (0.3.3)\n",
      "Requirement already satisfied: botocore==1.16.0 in c:\\users\\aj132\\anaconda3\\lib\\site-packages (from awscli->pycaret) (1.16.0)\n",
      "Requirement already satisfied: kiwisolver>=1.0.1 in c:\\users\\aj132\\anaconda3\\lib\\site-packages (from matplotlib->pycaret) (1.1.0)\n",
      "Requirement already satisfied: pyparsing!=2.0.4,!=2.1.2,!=2.1.6,>=2.0.1 in c:\\users\\aj132\\anaconda3\\lib\\site-packages (from matplotlib->pycaret) (2.4.0)\n",
      "Requirement already satisfied: boto3 in c:\\users\\aj132\\anaconda3\\lib\\site-packages (from smart-open>=1.8.1->gensim->pycaret) (1.13.0)\n",
      "Requirement already satisfied: boto in c:\\users\\aj132\\anaconda3\\lib\\site-packages (from smart-open>=1.8.1->gensim->pycaret) (2.49.0)\n",
      "Requirement already satisfied: llvmlite>=0.29.0 in c:\\users\\aj132\\anaconda3\\lib\\site-packages (from numba>=0.35->pyod->pycaret) (0.29.0)\n",
      "Requirement already satisfied: ipython-genutils in c:\\users\\aj132\\anaconda3\\lib\\site-packages (from traitlets>=4.2->IPython->pycaret) (0.2.0)\n",
      "Requirement already satisfied: wcwidth in c:\\users\\aj132\\anaconda3\\lib\\site-packages (from prompt-toolkit<2.1.0,>=2.0.0->IPython->pycaret) (0.1.7)\n",
      "Requirement already satisfied: parso>=0.3.0 in c:\\users\\aj132\\anaconda3\\lib\\site-packages (from jedi>=0.10->IPython->pycaret) (0.5.0)\n",
      "Requirement already satisfied: py>=1.5.0 in c:\\users\\aj132\\anaconda3\\lib\\site-packages (from pytest->pyLDAvis->pycaret) (1.8.0)\n",
      "Requirement already satisfied: packaging in c:\\users\\aj132\\anaconda3\\lib\\site-packages (from pytest->pyLDAvis->pycaret) (19.0)\n",
      "Requirement already satisfied: attrs>=17.4.0 in c:\\users\\aj132\\anaconda3\\lib\\site-packages (from pytest->pyLDAvis->pycaret) (19.1.0)\n",
      "Requirement already satisfied: more-itertools>=4.0.0 in c:\\users\\aj132\\anaconda3\\lib\\site-packages (from pytest->pyLDAvis->pycaret) (7.0.0)\n",
      "Requirement already satisfied: atomicwrites>=1.0 in c:\\users\\aj132\\anaconda3\\lib\\site-packages (from pytest->pyLDAvis->pycaret) (1.3.0)\n",
      "Requirement already satisfied: pluggy<1.0,>=0.12 in c:\\users\\aj132\\anaconda3\\lib\\site-packages (from pytest->pyLDAvis->pycaret) (0.12.0)\n",
      "Requirement already satisfied: importlib-metadata>=0.12 in c:\\users\\aj132\\anaconda3\\lib\\site-packages (from pytest->pyLDAvis->pycaret) (1.6.0)\n",
      "Requirement already satisfied: MarkupSafe>=0.23 in c:\\users\\aj132\\anaconda3\\lib\\site-packages (from jinja2>=2.7.2->pyLDAvis->pycaret) (1.1.1)\n",
      "Requirement already satisfied: jupyter-core in c:\\users\\aj132\\anaconda3\\lib\\site-packages (from nbformat>=4.2.0->ipywidgets->pycaret) (4.5.0)\n",
      "Requirement already satisfied: jsonschema!=2.5.0,>=2.4 in c:\\users\\aj132\\anaconda3\\lib\\site-packages (from nbformat>=4.2.0->ipywidgets->pycaret) (3.0.1)\n",
      "Requirement already satisfied: tornado>=4.2 in c:\\users\\aj132\\anaconda3\\lib\\site-packages (from ipykernel>=4.5.1->ipywidgets->pycaret) (6.0.3)\n",
      "Requirement already satisfied: jupyter-client in c:\\users\\aj132\\anaconda3\\lib\\site-packages (from ipykernel>=4.5.1->ipywidgets->pycaret) (5.3.1)\n",
      "Requirement already satisfied: notebook>=4.4.1 in c:\\users\\aj132\\anaconda3\\lib\\site-packages (from widgetsnbextension~=3.5.0->ipywidgets->pycaret) (6.0.0)\n",
      "Requirement already satisfied: urllib3!=1.25.0,!=1.25.1,<1.26,>=1.21.1 in c:\\users\\aj132\\anaconda3\\lib\\site-packages (from requests<3.0.0,>=2.13.0->spacy->pycaret) (1.24.2)\n",
      "Requirement already satisfied: idna<2.9,>=2.5 in c:\\users\\aj132\\anaconda3\\lib\\site-packages (from requests<3.0.0,>=2.13.0->spacy->pycaret) (2.8)\n",
      "Requirement already satisfied: chardet<3.1.0,>=3.0.2 in c:\\users\\aj132\\anaconda3\\lib\\site-packages (from requests<3.0.0,>=2.13.0->spacy->pycaret) (3.0.4)\n",
      "Requirement already satisfied: certifi>=2017.4.17 in c:\\users\\aj132\\anaconda3\\lib\\site-packages (from requests<3.0.0,>=2.13.0->spacy->pycaret) (2019.9.11)\n",
      "Requirement already satisfied: pyasn1>=0.1.3 in c:\\users\\aj132\\anaconda3\\lib\\site-packages (from rsa<=3.5.0,>=3.1.2->awscli->pycaret) (0.4.8)\n",
      "Requirement already satisfied: jmespath<1.0.0,>=0.7.1 in c:\\users\\aj132\\anaconda3\\lib\\site-packages (from botocore==1.16.0->awscli->pycaret) (0.9.5)\n",
      "Requirement already satisfied: zipp>=0.5 in c:\\users\\aj132\\anaconda3\\lib\\site-packages (from importlib-metadata>=0.12->pytest->pyLDAvis->pycaret) (0.5.1)\n",
      "Requirement already satisfied: pyrsistent>=0.14.0 in c:\\users\\aj132\\anaconda3\\lib\\site-packages (from jsonschema!=2.5.0,>=2.4->nbformat>=4.2.0->ipywidgets->pycaret) (0.14.11)\n",
      "Requirement already satisfied: pyzmq>=13 in c:\\users\\aj132\\anaconda3\\lib\\site-packages (from jupyter-client->ipykernel>=4.5.1->ipywidgets->pycaret) (18.0.0)\n",
      "Requirement already satisfied: terminado>=0.8.1 in c:\\users\\aj132\\anaconda3\\lib\\site-packages (from notebook>=4.4.1->widgetsnbextension~=3.5.0->ipywidgets->pycaret) (0.8.2)\n",
      "Requirement already satisfied: Send2Trash in c:\\users\\aj132\\anaconda3\\lib\\site-packages (from notebook>=4.4.1->widgetsnbextension~=3.5.0->ipywidgets->pycaret) (1.5.0)\n",
      "Requirement already satisfied: prometheus-client in c:\\users\\aj132\\anaconda3\\lib\\site-packages (from notebook>=4.4.1->widgetsnbextension~=3.5.0->ipywidgets->pycaret) (0.7.1)\n",
      "Requirement already satisfied: nbconvert in c:\\users\\aj132\\anaconda3\\lib\\site-packages (from notebook>=4.4.1->widgetsnbextension~=3.5.0->ipywidgets->pycaret) (5.5.0)\n",
      "Requirement already satisfied: entrypoints>=0.2.2 in c:\\users\\aj132\\anaconda3\\lib\\site-packages (from nbconvert->notebook>=4.4.1->widgetsnbextension~=3.5.0->ipywidgets->pycaret) (0.3)\n",
      "Requirement already satisfied: bleach in c:\\users\\aj132\\anaconda3\\lib\\site-packages (from nbconvert->notebook>=4.4.1->widgetsnbextension~=3.5.0->ipywidgets->pycaret) (3.1.0)\n",
      "Requirement already satisfied: mistune>=0.8.1 in c:\\users\\aj132\\anaconda3\\lib\\site-packages (from nbconvert->notebook>=4.4.1->widgetsnbextension~=3.5.0->ipywidgets->pycaret) (0.8.4)\n",
      "Requirement already satisfied: defusedxml in c:\\users\\aj132\\anaconda3\\lib\\site-packages (from nbconvert->notebook>=4.4.1->widgetsnbextension~=3.5.0->ipywidgets->pycaret) (0.6.0)\n",
      "Requirement already satisfied: testpath in c:\\users\\aj132\\anaconda3\\lib\\site-packages (from nbconvert->notebook>=4.4.1->widgetsnbextension~=3.5.0->ipywidgets->pycaret) (0.4.2)\n",
      "Requirement already satisfied: pandocfilters>=1.4.1 in c:\\users\\aj132\\anaconda3\\lib\\site-packages (from nbconvert->notebook>=4.4.1->widgetsnbextension~=3.5.0->ipywidgets->pycaret) (1.4.2)\n",
      "Requirement already satisfied: webencodings in c:\\users\\aj132\\anaconda3\\lib\\site-packages (from bleach->nbconvert->notebook>=4.4.1->widgetsnbextension~=3.5.0->ipywidgets->pycaret) (0.5.1)\n",
      "Installing collected packages: tqdm\n",
      "  Attempting uninstall: tqdm\n",
      "    Found existing installation: tqdm 4.32.1\n",
      "    Uninstalling tqdm-4.32.1:\n",
      "      Successfully uninstalled tqdm-4.32.1\n",
      "Successfully installed tqdm-4.45.0\n"
     ]
    },
    {
     "name": "stderr",
     "output_type": "stream",
     "text": [
      "WARNING: You are using pip version 20.0.2; however, version 20.1 is available.\n",
      "You should consider upgrading via the 'c:\\users\\aj132\\anaconda3\\python.exe -m pip install --upgrade pip' command.\n"
     ]
    }
   ],
   "source": [
    "!pip install pycaret"
   ]
  },
  {
   "cell_type": "code",
   "execution_count": 192,
   "metadata": {},
   "outputs": [],
   "source": [
    "from pycaret.regression import *"
   ]
  },
  {
   "cell_type": "code",
   "execution_count": 207,
   "metadata": {},
   "outputs": [
    {
     "name": "stdout",
     "output_type": "stream",
     "text": [
      "WARNING:tensorflow:From C:\\Users\\aj132\\Anaconda3\\lib\\site-packages\\tensorflow_core\\python\\ops\\resource_variable_ops.py:1630: calling BaseResourceVariable.__init__ (from tensorflow.python.ops.resource_variable_ops) with constraint is deprecated and will be removed in a future version.\n",
      "Instructions for updating:\n",
      "If using Keras pass *_constraint arguments to layers.\n"
     ]
    }
   ],
   "source": [
    "new_model = tf.keras.models.load_model('nn_model_v2.h5')"
   ]
  },
  {
   "cell_type": "code",
   "execution_count": 208,
   "metadata": {},
   "outputs": [
    {
     "name": "stdout",
     "output_type": "stream",
     "text": [
      "Model: \"model_2\"\n",
      "_________________________________________________________________\n",
      "Layer (type)                 Output Shape              Param #   \n",
      "=================================================================\n",
      "input_2 (InputLayer)         [(None, 120)]             0         \n",
      "_________________________________________________________________\n",
      "dense_5 (Dense)              (None, 64)                7744      \n",
      "_________________________________________________________________\n",
      "batch_normalization_4 (Batch (None, 64)                256       \n",
      "_________________________________________________________________\n",
      "dropout_4 (Dropout)          (None, 64)                0         \n",
      "_________________________________________________________________\n",
      "dense_6 (Dense)              (None, 32)                2080      \n",
      "_________________________________________________________________\n",
      "batch_normalization_5 (Batch (None, 32)                128       \n",
      "_________________________________________________________________\n",
      "dropout_5 (Dropout)          (None, 32)                0         \n",
      "_________________________________________________________________\n",
      "dense_7 (Dense)              (None, 16)                528       \n",
      "_________________________________________________________________\n",
      "batch_normalization_6 (Batch (None, 16)                64        \n",
      "_________________________________________________________________\n",
      "dropout_6 (Dropout)          (None, 16)                0         \n",
      "_________________________________________________________________\n",
      "dense_8 (Dense)              (None, 1)                 17        \n",
      "=================================================================\n",
      "Total params: 10,817\n",
      "Trainable params: 10,593\n",
      "Non-trainable params: 224\n",
      "_________________________________________________________________\n"
     ]
    }
   ],
   "source": [
    "new_model.summary()"
   ]
  },
  {
   "cell_type": "code",
   "execution_count": 259,
   "metadata": {},
   "outputs": [],
   "source": [
    "predictors = new_model.predict(X_test)"
   ]
  },
  {
   "cell_type": "code",
   "execution_count": 260,
   "metadata": {},
   "outputs": [
    {
     "data": {
      "text/plain": [
       "(6110, 1)"
      ]
     },
     "execution_count": 260,
     "metadata": {},
     "output_type": "execute_result"
    }
   ],
   "source": [
    "predictors.shape"
   ]
  },
  {
   "cell_type": "code",
   "execution_count": 261,
   "metadata": {},
   "outputs": [
    {
     "data": {
      "text/plain": [
       "(6110, 120)"
      ]
     },
     "execution_count": 261,
     "metadata": {},
     "output_type": "execute_result"
    }
   ],
   "source": [
    "X_test.shape"
   ]
  },
  {
   "cell_type": "code",
   "execution_count": 262,
   "metadata": {},
   "outputs": [
    {
     "data": {
      "text/plain": [
       "array([[0.7848218 ],\n",
       "       [0.744847  ],\n",
       "       [0.6553484 ],\n",
       "       ...,\n",
       "       [0.66863525],\n",
       "       [0.68654996],\n",
       "       [0.6474706 ]], dtype=float32)"
      ]
     },
     "execution_count": 262,
     "metadata": {},
     "output_type": "execute_result"
    }
   ],
   "source": [
    "predictors"
   ]
  },
  {
   "cell_type": "code",
   "execution_count": 263,
   "metadata": {},
   "outputs": [
    {
     "data": {
      "text/plain": [
       "0.35442249743948473"
      ]
     },
     "execution_count": 263,
     "metadata": {},
     "output_type": "execute_result"
    }
   ],
   "source": [
    "np.sqrt(mean_squared_error(predictors, y_test))"
   ]
  },
  {
   "cell_type": "code",
   "execution_count": 264,
   "metadata": {},
   "outputs": [
    {
     "data": {
      "text/plain": [
       "0.31283882758816406"
      ]
     },
     "execution_count": 264,
     "metadata": {},
     "output_type": "execute_result"
    }
   ],
   "source": [
    "mean_absolute_error(predictors, y_test)"
   ]
  },
  {
   "cell_type": "code",
   "execution_count": null,
   "metadata": {},
   "outputs": [],
   "source": []
  }
 ],
 "metadata": {
  "kernelspec": {
   "display_name": "Python 3",
   "language": "python",
   "name": "python3"
  },
  "language_info": {
   "codemirror_mode": {
    "name": "ipython",
    "version": 3
   },
   "file_extension": ".py",
   "mimetype": "text/x-python",
   "name": "python",
   "nbconvert_exporter": "python",
   "pygments_lexer": "ipython3",
   "version": "3.7.3"
  }
 },
 "nbformat": 4,
 "nbformat_minor": 2
}
